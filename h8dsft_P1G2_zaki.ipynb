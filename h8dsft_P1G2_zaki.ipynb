{
 "cells": [
  {
   "attachments": {},
   "cell_type": "markdown",
   "metadata": {},
   "source": [
    "# Cencus Adult Income\n",
    "Zaki Syaiful Hunafa\n",
    "\n",
    "RMT-018"
   ]
  },
  {
   "attachments": {},
   "cell_type": "markdown",
   "metadata": {},
   "source": [
    "## 1. Descriptive\n",
    "\n",
    "### Objective\n",
    "\n",
    "The objective of this analysis is to predict whether an individual's income exceeds $50,000 per year or not, based on the demographic and employment-related attributes provided in the Census Adult Income dataset. The analysis will be conducted using logistic regression and support vector machines (SVM) in order to determine the most accurate model for predicting income level. The analysis will use two models - logistic regression and SVM - to predict income level based on demographic and employment-related attributes. Model performance will be evaluated using accuracy, precision, recall, and F1 score. Using data that queried from Big Query as follows:\n",
    "\n",
    "`SELECT age, workclass, education, education_num, marital_status, occupation, relationship, race, sex, capital_gain, capital_loss, hours_per_week, native_country, income_bracket\n",
    "FROM bigquery-public-data.ml_datasets.census_adult_income\n",
    "WHERE workclass != ' ?' \n",
    "AND hours_per_week < 100 \n",
    "LIMIT 35928`\n",
    "\n",
    "The analysis will use the Census Adult Income dataset, which provides extensive demographic and employment-related information about individuals. Logistic regression and SVM are well-established machine learning models that are commonly used for binary classification tasks. Predicting income level is a crucial task for individuals, organizations, and governments alike. By accurately predicting income level based on demographic and employment-related attributes, this analysis can help identify key factors that affect income level and improve decision-making around issues such as poverty reduction and social mobility. The analysis will be completed within a reasonable time frame, with a focus on ensuring that results are accurate and robust. The timeline will include data preprocessing, EDA, model training and evaluation, and final reporting of results.\n",
    "\n",
    "In summary, this analysis will use SMART methodologies to predict income level based on demographic and employment-related attributes in the Census Adult Income dataset. By using well-established machine learning models and evaluating model performance using multiple metrics, the analysis will provide valuable insights into the key factors that affect income level and identify the most accurate model for predicting income level."
   ]
  },
  {
   "attachments": {},
   "cell_type": "markdown",
   "metadata": {},
   "source": [
    "### Conceptual Problems\n",
    "\n",
    "1. In logistic regression, the coefficients represent the relationship between each feature (independent variable) and the logarithm of the odds ratio for the dependent variable. These coefficients, also known as beta coefficients, are used to calculate the predicted probability of the outcome (e.g., a binary classification of yes or no) based on the values of the independent variables.\n",
    "\n",
    "    The coefficient values are estimated using a process called maximum likelihood estimation, which aims to find the values that best fit the data and maximize the likelihood of observing the data given the model. The coefficients are often presented along with their corresponding standard errors, confidence intervals, and p-values, which provide information about the uncertainty and statistical significance of the estimates.\n",
    "\n",
    "    Interpreting the coefficient values can be challenging, as they represent the change in the log-odds of the outcome for a unit change in the corresponding independent variable, holding all other variables constant. However, exponentiating the coefficient values (i.e., taking the exponential function) yields the odds ratio, which represents the factor by which the odds of the outcome increase for a unit increase in the independent variable. This can provide a more intuitive interpretation of the coefficient values and help identify the most important predictors of the outcome.\n",
    "\n",
    "2. In Support Vector Machines (SVM), the term \"support vector\" refers to the data points that lie closest to the decision boundary (or hyperplane) that separates the different classes in a binary classification problem. The support vectors are the key elements of the SVM algorithm, as they define the margin (or the distance between the hyperplane and the closest data points) and the decision boundary.\n",
    "\n",
    "    The goal of the SVM algorithm is to find the hyperplane that maximizes the margin between the two classes, while minimizing the classification error. The support vectors are the data points that lie on the margin or are misclassified, and they determine the position and orientation of the hyperplane.\n",
    "\n",
    "    During the training phase of the SVM algorithm, the support vectors are identified by solving a quadratic optimization problem, which involves minimizing the classification error subject to the constraint that the margin is maximized. The support vectors are the data points that lie on the boundary of the margin, and they are the only data points that affect the position and orientation of the hyperplane.\n",
    "\n",
    "    The use of support vectors in SVM has several advantages, including:\n",
    "\n",
    "    * SVM can handle high-dimensional data with relatively few support vectors, which makes it computationally efficient and suitable for large datasets.\n",
    "    * SVM is robust to outliers, as the support vectors are only affected by the data points that lie closest to the decision boundary.\n",
    "    * SVM can model complex nonlinear decision boundaries by using kernel functions, which transform the data into a higher-dimensional space where the data becomes linearly separable. In this transformed space, the support vectors define the position and orientation of the hyperplane.   \n",
    "\n",
    "3. In Support Vector Machines (SVM), the kernel parameter specifies the type of kernel function used to transform the input data into a higher-dimensional space where the data becomes linearly separable. The kernel function calculates the similarity (or distance) between pairs of input data points in the transformed space, which is used to construct the decision boundary (or hyperplane) that separates the different classes in a binary classification problem.\n",
    "\n",
    "    - Linear Kernel = This is the most basic type of kernel. It is used to solve classification problem as well as the fastest.\n",
    "\n",
    "    - Polinomial Kernel = Similiar with linear kernel, this kernel has a higher dimension which is represented by parameter `d`. This parameter is also polinomial degress\n",
    "\n",
    "    - Gaussian Radian Basis Function (rbf) = Is used for non-linear data\n",
    "\n",
    "    - Sigmoid Kernel = Is used for neural network"
   ]
  },
  {
   "attachments": {},
   "cell_type": "markdown",
   "metadata": {},
   "source": [
    "## 2. Import Libraries"
   ]
  },
  {
   "cell_type": "code",
   "execution_count": 454,
   "metadata": {},
   "outputs": [],
   "source": [
    "# Import Libraries\n",
    "import pandas as pd\n",
    "import numpy as np\n",
    "import matplotlib.pyplot as plt\n",
    "import seaborn as sns\n",
    "%matplotlib inline\n",
    "\n",
    "# to generate correlation for categoty and numerical features\n",
    "from dython.nominal import associations\n",
    "\n",
    "# Google cloud setting\n",
    "from google.cloud import bigquery\n",
    "from google.oauth2 import service_account\n",
    "\n",
    "# To Encode Categorical Column\n",
    "from sklearn.preprocessing import OneHotEncoder\n",
    "from sklearn.preprocessing import OrdinalEncoder\n",
    "\n",
    "# To Scalling Numerical Column\n",
    "from sklearn.preprocessing import MinMaxScaler\n",
    "\n",
    "# For Logistic Regression\n",
    "from sklearn.linear_model import LogisticRegression\n",
    "\n",
    "# Split Dataset and Standarize the Datasets\n",
    "from sklearn.model_selection import train_test_split\n",
    "from sklearn.preprocessing import StandardScaler\n",
    "\n",
    "from sklearn.metrics import accuracy_score, precision_score, recall_score, f1_score, ConfusionMatrixDisplay, confusion_matrix, classification_report, mean_absolute_error\n",
    "\n",
    "# SVM\n",
    "from sklearn.svm import SVC\n",
    "\n",
    "# Save data\n",
    "import pickle\n",
    "import json\n",
    "\n",
    "\n",
    "credentials = service_account.Credentials.from_service_account_file('harvest-moon-370515-745ab715b948.json')\n",
    "project_id = \"harvest-moon-370515\" \n",
    "client = bigquery.Client(credentials=credentials, project=project_id)"
   ]
  },
  {
   "attachments": {},
   "cell_type": "markdown",
   "metadata": {},
   "source": [
    "## 3. Query SQL"
   ]
  },
  {
   "cell_type": "code",
   "execution_count": 455,
   "metadata": {},
   "outputs": [
    {
     "data": {
      "text/html": [
       "<div>\n",
       "<style scoped>\n",
       "    .dataframe tbody tr th:only-of-type {\n",
       "        vertical-align: middle;\n",
       "    }\n",
       "\n",
       "    .dataframe tbody tr th {\n",
       "        vertical-align: top;\n",
       "    }\n",
       "\n",
       "    .dataframe thead th {\n",
       "        text-align: right;\n",
       "    }\n",
       "</style>\n",
       "<table border=\"1\" class=\"dataframe\">\n",
       "  <thead>\n",
       "    <tr style=\"text-align: right;\">\n",
       "      <th></th>\n",
       "      <th>age</th>\n",
       "      <th>workclass</th>\n",
       "      <th>education</th>\n",
       "      <th>education_num</th>\n",
       "      <th>marital_status</th>\n",
       "      <th>occupation</th>\n",
       "      <th>relationship</th>\n",
       "      <th>race</th>\n",
       "      <th>sex</th>\n",
       "      <th>capital_gain</th>\n",
       "      <th>capital_loss</th>\n",
       "      <th>hours_per_week</th>\n",
       "      <th>native_country</th>\n",
       "      <th>income_bracket</th>\n",
       "    </tr>\n",
       "  </thead>\n",
       "  <tbody>\n",
       "    <tr>\n",
       "      <th>0</th>\n",
       "      <td>39</td>\n",
       "      <td>Private</td>\n",
       "      <td>9th</td>\n",
       "      <td>5</td>\n",
       "      <td>Married-civ-spouse</td>\n",
       "      <td>Other-service</td>\n",
       "      <td>Wife</td>\n",
       "      <td>Black</td>\n",
       "      <td>Female</td>\n",
       "      <td>3411</td>\n",
       "      <td>0</td>\n",
       "      <td>34</td>\n",
       "      <td>United-States</td>\n",
       "      <td>&lt;=50K</td>\n",
       "    </tr>\n",
       "    <tr>\n",
       "      <th>1</th>\n",
       "      <td>77</td>\n",
       "      <td>Private</td>\n",
       "      <td>9th</td>\n",
       "      <td>5</td>\n",
       "      <td>Married-civ-spouse</td>\n",
       "      <td>Priv-house-serv</td>\n",
       "      <td>Wife</td>\n",
       "      <td>Black</td>\n",
       "      <td>Female</td>\n",
       "      <td>0</td>\n",
       "      <td>0</td>\n",
       "      <td>10</td>\n",
       "      <td>United-States</td>\n",
       "      <td>&lt;=50K</td>\n",
       "    </tr>\n",
       "    <tr>\n",
       "      <th>2</th>\n",
       "      <td>38</td>\n",
       "      <td>Private</td>\n",
       "      <td>9th</td>\n",
       "      <td>5</td>\n",
       "      <td>Married-civ-spouse</td>\n",
       "      <td>Other-service</td>\n",
       "      <td>Wife</td>\n",
       "      <td>Black</td>\n",
       "      <td>Female</td>\n",
       "      <td>0</td>\n",
       "      <td>0</td>\n",
       "      <td>24</td>\n",
       "      <td>Haiti</td>\n",
       "      <td>&lt;=50K</td>\n",
       "    </tr>\n",
       "    <tr>\n",
       "      <th>3</th>\n",
       "      <td>28</td>\n",
       "      <td>Private</td>\n",
       "      <td>9th</td>\n",
       "      <td>5</td>\n",
       "      <td>Married-civ-spouse</td>\n",
       "      <td>Protective-serv</td>\n",
       "      <td>Wife</td>\n",
       "      <td>Black</td>\n",
       "      <td>Female</td>\n",
       "      <td>0</td>\n",
       "      <td>0</td>\n",
       "      <td>40</td>\n",
       "      <td>United-States</td>\n",
       "      <td>&lt;=50K</td>\n",
       "    </tr>\n",
       "    <tr>\n",
       "      <th>4</th>\n",
       "      <td>37</td>\n",
       "      <td>Private</td>\n",
       "      <td>9th</td>\n",
       "      <td>5</td>\n",
       "      <td>Married-civ-spouse</td>\n",
       "      <td>Machine-op-inspct</td>\n",
       "      <td>Wife</td>\n",
       "      <td>Black</td>\n",
       "      <td>Female</td>\n",
       "      <td>0</td>\n",
       "      <td>0</td>\n",
       "      <td>48</td>\n",
       "      <td>United-States</td>\n",
       "      <td>&lt;=50K</td>\n",
       "    </tr>\n",
       "  </tbody>\n",
       "</table>\n",
       "</div>"
      ],
      "text/plain": [
       "   age workclass education  education_num       marital_status  \\\n",
       "0   39   Private       9th              5   Married-civ-spouse   \n",
       "1   77   Private       9th              5   Married-civ-spouse   \n",
       "2   38   Private       9th              5   Married-civ-spouse   \n",
       "3   28   Private       9th              5   Married-civ-spouse   \n",
       "4   37   Private       9th              5   Married-civ-spouse   \n",
       "\n",
       "           occupation relationship    race      sex  capital_gain  \\\n",
       "0       Other-service         Wife   Black   Female          3411   \n",
       "1     Priv-house-serv         Wife   Black   Female             0   \n",
       "2       Other-service         Wife   Black   Female             0   \n",
       "3     Protective-serv         Wife   Black   Female             0   \n",
       "4   Machine-op-inspct         Wife   Black   Female             0   \n",
       "\n",
       "   capital_loss  hours_per_week  native_country income_bracket  \n",
       "0             0              34   United-States          <=50K  \n",
       "1             0              10   United-States          <=50K  \n",
       "2             0              24           Haiti          <=50K  \n",
       "3             0              40   United-States          <=50K  \n",
       "4             0              48   United-States          <=50K  "
      ]
     },
     "execution_count": 455,
     "metadata": {},
     "output_type": "execute_result"
    }
   ],
   "source": [
    "# Generate data\n",
    "df = client.query('''\n",
    "SELECT age, workclass, education, education_num, marital_status, occupation, relationship, race, sex, capital_gain, capital_loss, hours_per_week, native_country, income_bracket\n",
    "FROM bigquery-public-data.ml_datasets.census_adult_income\n",
    "WHERE workclass != ' ?' \n",
    "  AND hours_per_week < 100 \n",
    "LIMIT 35928\n",
    "''').to_dataframe()\n",
    "\n",
    "# save csv\n",
    "df.to_csv('h8dsft_P1G2_zaki.csv')\n",
    "df.head()"
   ]
  },
  {
   "attachments": {},
   "cell_type": "markdown",
   "metadata": {},
   "source": [
    "From the above dataset, here is the description of each column:\n",
    "\n",
    "Name | Definition\n",
    "---|---\n",
    "`age` | Age of person\n",
    "`workclass` | Nature of employment\n",
    "`education` | Level of education completed\n",
    "`education_num` | Estimated years of education completed based on the value of the education field\n",
    "`marital_status` | Marital status\n",
    "`occupation` | Occupation category\n",
    "`relationship` | Relationship to the household\n",
    "`race` | Race\n",
    "`sex` | Gender\n",
    "`capital_gain` | Amount of capital gains\n",
    "`capital_loss` | Amount of capital loss\n",
    "`native_country` | Country of birth\n",
    "`income_bracket` | Either \">50K\" or \"<=50K\" based on income in dollar yearly"
   ]
  },
  {
   "attachments": {},
   "cell_type": "markdown",
   "metadata": {},
   "source": [
    "## 4. Data Loading"
   ]
  },
  {
   "cell_type": "code",
   "execution_count": 456,
   "metadata": {},
   "outputs": [
    {
     "data": {
      "text/html": [
       "<div>\n",
       "<style scoped>\n",
       "    .dataframe tbody tr th:only-of-type {\n",
       "        vertical-align: middle;\n",
       "    }\n",
       "\n",
       "    .dataframe tbody tr th {\n",
       "        vertical-align: top;\n",
       "    }\n",
       "\n",
       "    .dataframe thead th {\n",
       "        text-align: right;\n",
       "    }\n",
       "</style>\n",
       "<table border=\"1\" class=\"dataframe\">\n",
       "  <thead>\n",
       "    <tr style=\"text-align: right;\">\n",
       "      <th></th>\n",
       "      <th>age</th>\n",
       "      <th>workclass</th>\n",
       "      <th>education</th>\n",
       "      <th>education_num</th>\n",
       "      <th>marital_status</th>\n",
       "      <th>occupation</th>\n",
       "      <th>relationship</th>\n",
       "      <th>race</th>\n",
       "      <th>sex</th>\n",
       "      <th>capital_gain</th>\n",
       "      <th>capital_loss</th>\n",
       "      <th>hours_per_week</th>\n",
       "      <th>native_country</th>\n",
       "      <th>income_bracket</th>\n",
       "    </tr>\n",
       "  </thead>\n",
       "  <tbody>\n",
       "    <tr>\n",
       "      <th>0</th>\n",
       "      <td>39</td>\n",
       "      <td>Private</td>\n",
       "      <td>9th</td>\n",
       "      <td>5</td>\n",
       "      <td>Married-civ-spouse</td>\n",
       "      <td>Other-service</td>\n",
       "      <td>Wife</td>\n",
       "      <td>Black</td>\n",
       "      <td>Female</td>\n",
       "      <td>3411</td>\n",
       "      <td>0</td>\n",
       "      <td>34</td>\n",
       "      <td>United-States</td>\n",
       "      <td>&lt;=50K</td>\n",
       "    </tr>\n",
       "    <tr>\n",
       "      <th>1</th>\n",
       "      <td>77</td>\n",
       "      <td>Private</td>\n",
       "      <td>9th</td>\n",
       "      <td>5</td>\n",
       "      <td>Married-civ-spouse</td>\n",
       "      <td>Priv-house-serv</td>\n",
       "      <td>Wife</td>\n",
       "      <td>Black</td>\n",
       "      <td>Female</td>\n",
       "      <td>0</td>\n",
       "      <td>0</td>\n",
       "      <td>10</td>\n",
       "      <td>United-States</td>\n",
       "      <td>&lt;=50K</td>\n",
       "    </tr>\n",
       "    <tr>\n",
       "      <th>2</th>\n",
       "      <td>38</td>\n",
       "      <td>Private</td>\n",
       "      <td>9th</td>\n",
       "      <td>5</td>\n",
       "      <td>Married-civ-spouse</td>\n",
       "      <td>Other-service</td>\n",
       "      <td>Wife</td>\n",
       "      <td>Black</td>\n",
       "      <td>Female</td>\n",
       "      <td>0</td>\n",
       "      <td>0</td>\n",
       "      <td>24</td>\n",
       "      <td>Haiti</td>\n",
       "      <td>&lt;=50K</td>\n",
       "    </tr>\n",
       "    <tr>\n",
       "      <th>3</th>\n",
       "      <td>28</td>\n",
       "      <td>Private</td>\n",
       "      <td>9th</td>\n",
       "      <td>5</td>\n",
       "      <td>Married-civ-spouse</td>\n",
       "      <td>Protective-serv</td>\n",
       "      <td>Wife</td>\n",
       "      <td>Black</td>\n",
       "      <td>Female</td>\n",
       "      <td>0</td>\n",
       "      <td>0</td>\n",
       "      <td>40</td>\n",
       "      <td>United-States</td>\n",
       "      <td>&lt;=50K</td>\n",
       "    </tr>\n",
       "    <tr>\n",
       "      <th>4</th>\n",
       "      <td>37</td>\n",
       "      <td>Private</td>\n",
       "      <td>9th</td>\n",
       "      <td>5</td>\n",
       "      <td>Married-civ-spouse</td>\n",
       "      <td>Machine-op-inspct</td>\n",
       "      <td>Wife</td>\n",
       "      <td>Black</td>\n",
       "      <td>Female</td>\n",
       "      <td>0</td>\n",
       "      <td>0</td>\n",
       "      <td>48</td>\n",
       "      <td>United-States</td>\n",
       "      <td>&lt;=50K</td>\n",
       "    </tr>\n",
       "    <tr>\n",
       "      <th>5</th>\n",
       "      <td>45</td>\n",
       "      <td>Private</td>\n",
       "      <td>9th</td>\n",
       "      <td>5</td>\n",
       "      <td>Married-civ-spouse</td>\n",
       "      <td>Machine-op-inspct</td>\n",
       "      <td>Wife</td>\n",
       "      <td>White</td>\n",
       "      <td>Female</td>\n",
       "      <td>0</td>\n",
       "      <td>0</td>\n",
       "      <td>40</td>\n",
       "      <td>United-States</td>\n",
       "      <td>&gt;50K</td>\n",
       "    </tr>\n",
       "    <tr>\n",
       "      <th>6</th>\n",
       "      <td>55</td>\n",
       "      <td>Private</td>\n",
       "      <td>9th</td>\n",
       "      <td>5</td>\n",
       "      <td>Married-civ-spouse</td>\n",
       "      <td>Tech-support</td>\n",
       "      <td>Wife</td>\n",
       "      <td>White</td>\n",
       "      <td>Female</td>\n",
       "      <td>0</td>\n",
       "      <td>0</td>\n",
       "      <td>23</td>\n",
       "      <td>United-States</td>\n",
       "      <td>&lt;=50K</td>\n",
       "    </tr>\n",
       "    <tr>\n",
       "      <th>7</th>\n",
       "      <td>27</td>\n",
       "      <td>Private</td>\n",
       "      <td>9th</td>\n",
       "      <td>5</td>\n",
       "      <td>Married-civ-spouse</td>\n",
       "      <td>Machine-op-inspct</td>\n",
       "      <td>Wife</td>\n",
       "      <td>White</td>\n",
       "      <td>Female</td>\n",
       "      <td>0</td>\n",
       "      <td>0</td>\n",
       "      <td>37</td>\n",
       "      <td>Portugal</td>\n",
       "      <td>&lt;=50K</td>\n",
       "    </tr>\n",
       "    <tr>\n",
       "      <th>8</th>\n",
       "      <td>31</td>\n",
       "      <td>Private</td>\n",
       "      <td>9th</td>\n",
       "      <td>5</td>\n",
       "      <td>Married-civ-spouse</td>\n",
       "      <td>Exec-managerial</td>\n",
       "      <td>Wife</td>\n",
       "      <td>White</td>\n",
       "      <td>Female</td>\n",
       "      <td>0</td>\n",
       "      <td>0</td>\n",
       "      <td>40</td>\n",
       "      <td>United-States</td>\n",
       "      <td>&lt;=50K</td>\n",
       "    </tr>\n",
       "    <tr>\n",
       "      <th>9</th>\n",
       "      <td>30</td>\n",
       "      <td>Private</td>\n",
       "      <td>9th</td>\n",
       "      <td>5</td>\n",
       "      <td>Married-civ-spouse</td>\n",
       "      <td>Machine-op-inspct</td>\n",
       "      <td>Wife</td>\n",
       "      <td>White</td>\n",
       "      <td>Female</td>\n",
       "      <td>0</td>\n",
       "      <td>0</td>\n",
       "      <td>40</td>\n",
       "      <td>Portugal</td>\n",
       "      <td>&lt;=50K</td>\n",
       "    </tr>\n",
       "  </tbody>\n",
       "</table>\n",
       "</div>"
      ],
      "text/plain": [
       "   age workclass education  education_num       marital_status  \\\n",
       "0   39   Private       9th              5   Married-civ-spouse   \n",
       "1   77   Private       9th              5   Married-civ-spouse   \n",
       "2   38   Private       9th              5   Married-civ-spouse   \n",
       "3   28   Private       9th              5   Married-civ-spouse   \n",
       "4   37   Private       9th              5   Married-civ-spouse   \n",
       "5   45   Private       9th              5   Married-civ-spouse   \n",
       "6   55   Private       9th              5   Married-civ-spouse   \n",
       "7   27   Private       9th              5   Married-civ-spouse   \n",
       "8   31   Private       9th              5   Married-civ-spouse   \n",
       "9   30   Private       9th              5   Married-civ-spouse   \n",
       "\n",
       "           occupation relationship    race      sex  capital_gain  \\\n",
       "0       Other-service         Wife   Black   Female          3411   \n",
       "1     Priv-house-serv         Wife   Black   Female             0   \n",
       "2       Other-service         Wife   Black   Female             0   \n",
       "3     Protective-serv         Wife   Black   Female             0   \n",
       "4   Machine-op-inspct         Wife   Black   Female             0   \n",
       "5   Machine-op-inspct         Wife   White   Female             0   \n",
       "6        Tech-support         Wife   White   Female             0   \n",
       "7   Machine-op-inspct         Wife   White   Female             0   \n",
       "8     Exec-managerial         Wife   White   Female             0   \n",
       "9   Machine-op-inspct         Wife   White   Female             0   \n",
       "\n",
       "   capital_loss  hours_per_week  native_country income_bracket  \n",
       "0             0              34   United-States          <=50K  \n",
       "1             0              10   United-States          <=50K  \n",
       "2             0              24           Haiti          <=50K  \n",
       "3             0              40   United-States          <=50K  \n",
       "4             0              48   United-States          <=50K  \n",
       "5             0              40   United-States           >50K  \n",
       "6             0              23   United-States          <=50K  \n",
       "7             0              37        Portugal          <=50K  \n",
       "8             0              40   United-States          <=50K  \n",
       "9             0              40        Portugal          <=50K  "
      ]
     },
     "execution_count": 456,
     "metadata": {},
     "output_type": "execute_result"
    }
   ],
   "source": [
    "# first 10 rows on df\n",
    "df.head(10)"
   ]
  },
  {
   "cell_type": "code",
   "execution_count": 457,
   "metadata": {},
   "outputs": [
    {
     "data": {
      "text/html": [
       "<div>\n",
       "<style scoped>\n",
       "    .dataframe tbody tr th:only-of-type {\n",
       "        vertical-align: middle;\n",
       "    }\n",
       "\n",
       "    .dataframe tbody tr th {\n",
       "        vertical-align: top;\n",
       "    }\n",
       "\n",
       "    .dataframe thead th {\n",
       "        text-align: right;\n",
       "    }\n",
       "</style>\n",
       "<table border=\"1\" class=\"dataframe\">\n",
       "  <thead>\n",
       "    <tr style=\"text-align: right;\">\n",
       "      <th></th>\n",
       "      <th>age</th>\n",
       "      <th>workclass</th>\n",
       "      <th>education</th>\n",
       "      <th>education_num</th>\n",
       "      <th>marital_status</th>\n",
       "      <th>occupation</th>\n",
       "      <th>relationship</th>\n",
       "      <th>race</th>\n",
       "      <th>sex</th>\n",
       "      <th>capital_gain</th>\n",
       "      <th>capital_loss</th>\n",
       "      <th>hours_per_week</th>\n",
       "      <th>native_country</th>\n",
       "      <th>income_bracket</th>\n",
       "    </tr>\n",
       "  </thead>\n",
       "  <tbody>\n",
       "    <tr>\n",
       "      <th>30715</th>\n",
       "      <td>23</td>\n",
       "      <td>Private</td>\n",
       "      <td>Some-college</td>\n",
       "      <td>10</td>\n",
       "      <td>Never-married</td>\n",
       "      <td>Adm-clerical</td>\n",
       "      <td>Other-relative</td>\n",
       "      <td>Asian-Pac-Islander</td>\n",
       "      <td>Female</td>\n",
       "      <td>0</td>\n",
       "      <td>0</td>\n",
       "      <td>24</td>\n",
       "      <td>Vietnam</td>\n",
       "      <td>&lt;=50K</td>\n",
       "    </tr>\n",
       "    <tr>\n",
       "      <th>30716</th>\n",
       "      <td>22</td>\n",
       "      <td>Private</td>\n",
       "      <td>Some-college</td>\n",
       "      <td>10</td>\n",
       "      <td>Never-married</td>\n",
       "      <td>Tech-support</td>\n",
       "      <td>Other-relative</td>\n",
       "      <td>Asian-Pac-Islander</td>\n",
       "      <td>Female</td>\n",
       "      <td>0</td>\n",
       "      <td>0</td>\n",
       "      <td>32</td>\n",
       "      <td>United-States</td>\n",
       "      <td>&lt;=50K</td>\n",
       "    </tr>\n",
       "    <tr>\n",
       "      <th>30717</th>\n",
       "      <td>25</td>\n",
       "      <td>Private</td>\n",
       "      <td>Some-college</td>\n",
       "      <td>10</td>\n",
       "      <td>Never-married</td>\n",
       "      <td>Craft-repair</td>\n",
       "      <td>Other-relative</td>\n",
       "      <td>Asian-Pac-Islander</td>\n",
       "      <td>Female</td>\n",
       "      <td>0</td>\n",
       "      <td>0</td>\n",
       "      <td>40</td>\n",
       "      <td>Cambodia</td>\n",
       "      <td>&lt;=50K</td>\n",
       "    </tr>\n",
       "    <tr>\n",
       "      <th>30718</th>\n",
       "      <td>22</td>\n",
       "      <td>Private</td>\n",
       "      <td>Some-college</td>\n",
       "      <td>10</td>\n",
       "      <td>Never-married</td>\n",
       "      <td>Craft-repair</td>\n",
       "      <td>Other-relative</td>\n",
       "      <td>Asian-Pac-Islander</td>\n",
       "      <td>Female</td>\n",
       "      <td>0</td>\n",
       "      <td>0</td>\n",
       "      <td>40</td>\n",
       "      <td>Vietnam</td>\n",
       "      <td>&lt;=50K</td>\n",
       "    </tr>\n",
       "    <tr>\n",
       "      <th>30719</th>\n",
       "      <td>48</td>\n",
       "      <td>Private</td>\n",
       "      <td>Some-college</td>\n",
       "      <td>10</td>\n",
       "      <td>Married-civ-spouse</td>\n",
       "      <td>Craft-repair</td>\n",
       "      <td>Other-relative</td>\n",
       "      <td>Asian-Pac-Islander</td>\n",
       "      <td>Male</td>\n",
       "      <td>0</td>\n",
       "      <td>0</td>\n",
       "      <td>40</td>\n",
       "      <td>Cambodia</td>\n",
       "      <td>&gt;50K</td>\n",
       "    </tr>\n",
       "    <tr>\n",
       "      <th>30720</th>\n",
       "      <td>46</td>\n",
       "      <td>Private</td>\n",
       "      <td>Some-college</td>\n",
       "      <td>10</td>\n",
       "      <td>Married-civ-spouse</td>\n",
       "      <td>Craft-repair</td>\n",
       "      <td>Other-relative</td>\n",
       "      <td>Asian-Pac-Islander</td>\n",
       "      <td>Male</td>\n",
       "      <td>0</td>\n",
       "      <td>0</td>\n",
       "      <td>40</td>\n",
       "      <td>India</td>\n",
       "      <td>&lt;=50K</td>\n",
       "    </tr>\n",
       "    <tr>\n",
       "      <th>30721</th>\n",
       "      <td>45</td>\n",
       "      <td>Private</td>\n",
       "      <td>Some-college</td>\n",
       "      <td>10</td>\n",
       "      <td>Married-civ-spouse</td>\n",
       "      <td>Craft-repair</td>\n",
       "      <td>Other-relative</td>\n",
       "      <td>Asian-Pac-Islander</td>\n",
       "      <td>Male</td>\n",
       "      <td>0</td>\n",
       "      <td>0</td>\n",
       "      <td>40</td>\n",
       "      <td>Philippines</td>\n",
       "      <td>&lt;=50K</td>\n",
       "    </tr>\n",
       "    <tr>\n",
       "      <th>30722</th>\n",
       "      <td>32</td>\n",
       "      <td>Private</td>\n",
       "      <td>Some-college</td>\n",
       "      <td>10</td>\n",
       "      <td>Married-civ-spouse</td>\n",
       "      <td>Sales</td>\n",
       "      <td>Other-relative</td>\n",
       "      <td>Asian-Pac-Islander</td>\n",
       "      <td>Female</td>\n",
       "      <td>0</td>\n",
       "      <td>0</td>\n",
       "      <td>40</td>\n",
       "      <td>Greece</td>\n",
       "      <td>&lt;=50K</td>\n",
       "    </tr>\n",
       "    <tr>\n",
       "      <th>30723</th>\n",
       "      <td>30</td>\n",
       "      <td>Self-emp-not-inc</td>\n",
       "      <td>Some-college</td>\n",
       "      <td>10</td>\n",
       "      <td>Never-married</td>\n",
       "      <td>Sales</td>\n",
       "      <td>Other-relative</td>\n",
       "      <td>Asian-Pac-Islander</td>\n",
       "      <td>Male</td>\n",
       "      <td>0</td>\n",
       "      <td>2258</td>\n",
       "      <td>40</td>\n",
       "      <td>South</td>\n",
       "      <td>&lt;=50K</td>\n",
       "    </tr>\n",
       "    <tr>\n",
       "      <th>30724</th>\n",
       "      <td>20</td>\n",
       "      <td>Self-emp-not-inc</td>\n",
       "      <td>Some-college</td>\n",
       "      <td>10</td>\n",
       "      <td>Never-married</td>\n",
       "      <td>Prof-specialty</td>\n",
       "      <td>Other-relative</td>\n",
       "      <td>Asian-Pac-Islander</td>\n",
       "      <td>Female</td>\n",
       "      <td>0</td>\n",
       "      <td>0</td>\n",
       "      <td>20</td>\n",
       "      <td>South</td>\n",
       "      <td>&lt;=50K</td>\n",
       "    </tr>\n",
       "  </tbody>\n",
       "</table>\n",
       "</div>"
      ],
      "text/plain": [
       "       age          workclass      education  education_num  \\\n",
       "30715   23            Private   Some-college             10   \n",
       "30716   22            Private   Some-college             10   \n",
       "30717   25            Private   Some-college             10   \n",
       "30718   22            Private   Some-college             10   \n",
       "30719   48            Private   Some-college             10   \n",
       "30720   46            Private   Some-college             10   \n",
       "30721   45            Private   Some-college             10   \n",
       "30722   32            Private   Some-college             10   \n",
       "30723   30   Self-emp-not-inc   Some-college             10   \n",
       "30724   20   Self-emp-not-inc   Some-college             10   \n",
       "\n",
       "            marital_status       occupation     relationship  \\\n",
       "30715        Never-married     Adm-clerical   Other-relative   \n",
       "30716        Never-married     Tech-support   Other-relative   \n",
       "30717        Never-married     Craft-repair   Other-relative   \n",
       "30718        Never-married     Craft-repair   Other-relative   \n",
       "30719   Married-civ-spouse     Craft-repair   Other-relative   \n",
       "30720   Married-civ-spouse     Craft-repair   Other-relative   \n",
       "30721   Married-civ-spouse     Craft-repair   Other-relative   \n",
       "30722   Married-civ-spouse            Sales   Other-relative   \n",
       "30723        Never-married            Sales   Other-relative   \n",
       "30724        Never-married   Prof-specialty   Other-relative   \n",
       "\n",
       "                      race      sex  capital_gain  capital_loss  \\\n",
       "30715   Asian-Pac-Islander   Female             0             0   \n",
       "30716   Asian-Pac-Islander   Female             0             0   \n",
       "30717   Asian-Pac-Islander   Female             0             0   \n",
       "30718   Asian-Pac-Islander   Female             0             0   \n",
       "30719   Asian-Pac-Islander     Male             0             0   \n",
       "30720   Asian-Pac-Islander     Male             0             0   \n",
       "30721   Asian-Pac-Islander     Male             0             0   \n",
       "30722   Asian-Pac-Islander   Female             0             0   \n",
       "30723   Asian-Pac-Islander     Male             0          2258   \n",
       "30724   Asian-Pac-Islander   Female             0             0   \n",
       "\n",
       "       hours_per_week  native_country income_bracket  \n",
       "30715              24         Vietnam          <=50K  \n",
       "30716              32   United-States          <=50K  \n",
       "30717              40        Cambodia          <=50K  \n",
       "30718              40         Vietnam          <=50K  \n",
       "30719              40        Cambodia           >50K  \n",
       "30720              40           India          <=50K  \n",
       "30721              40     Philippines          <=50K  \n",
       "30722              40          Greece          <=50K  \n",
       "30723              40           South          <=50K  \n",
       "30724              20           South          <=50K  "
      ]
     },
     "execution_count": 457,
     "metadata": {},
     "output_type": "execute_result"
    }
   ],
   "source": [
    "# 10 last rows on df\n",
    "df.tail(10)"
   ]
  },
  {
   "cell_type": "code",
   "execution_count": 458,
   "metadata": {},
   "outputs": [
    {
     "data": {
      "text/plain": [
       "array([' Other-service', ' Priv-house-serv', ' Protective-serv',\n",
       "       ' Machine-op-inspct', ' Tech-support', ' Exec-managerial',\n",
       "       ' Farming-fishing', ' Adm-clerical', ' Sales', ' Craft-repair',\n",
       "       ' Transport-moving', ' Handlers-cleaners', ' Prof-specialty', ' ?',\n",
       "       ' Armed-Forces'], dtype=object)"
      ]
     },
     "execution_count": 458,
     "metadata": {},
     "output_type": "execute_result"
    }
   ],
   "source": [
    "df.occupation.unique()"
   ]
  },
  {
   "cell_type": "code",
   "execution_count": 459,
   "metadata": {},
   "outputs": [
    {
     "data": {
      "text/html": [
       "<div>\n",
       "<style scoped>\n",
       "    .dataframe tbody tr th:only-of-type {\n",
       "        vertical-align: middle;\n",
       "    }\n",
       "\n",
       "    .dataframe tbody tr th {\n",
       "        vertical-align: top;\n",
       "    }\n",
       "\n",
       "    .dataframe thead th {\n",
       "        text-align: right;\n",
       "    }\n",
       "</style>\n",
       "<table border=\"1\" class=\"dataframe\">\n",
       "  <thead>\n",
       "    <tr style=\"text-align: right;\">\n",
       "      <th></th>\n",
       "      <th>age</th>\n",
       "      <th>workclass</th>\n",
       "      <th>education</th>\n",
       "      <th>education_num</th>\n",
       "      <th>marital_status</th>\n",
       "      <th>occupation</th>\n",
       "      <th>relationship</th>\n",
       "      <th>race</th>\n",
       "      <th>sex</th>\n",
       "      <th>capital_gain</th>\n",
       "      <th>capital_loss</th>\n",
       "      <th>hours_per_week</th>\n",
       "      <th>native_country</th>\n",
       "      <th>income_bracket</th>\n",
       "    </tr>\n",
       "  </thead>\n",
       "  <tbody>\n",
       "  </tbody>\n",
       "</table>\n",
       "</div>"
      ],
      "text/plain": [
       "Empty DataFrame\n",
       "Columns: [age, workclass, education, education_num, marital_status, occupation, relationship, race, sex, capital_gain, capital_loss, hours_per_week, native_country, income_bracket]\n",
       "Index: []"
      ]
     },
     "execution_count": 459,
     "metadata": {},
     "output_type": "execute_result"
    }
   ],
   "source": [
    "df[\n",
    "    (df['capital_gain'] == 0) &\n",
    "    (df['capital_loss'] != 0) &\n",
    "    (df['income_bracket'] == '>50K')\n",
    "]"
   ]
  },
  {
   "cell_type": "code",
   "execution_count": 460,
   "metadata": {},
   "outputs": [],
   "source": [
    "# delete whitespace in df\n",
    "cols = df.columns[df.dtypes == 'O']\n",
    "df[cols] = df[cols].apply(lambda x: x.str.strip())"
   ]
  },
  {
   "cell_type": "code",
   "execution_count": 461,
   "metadata": {},
   "outputs": [
    {
     "data": {
      "text/plain": [
       "array(['Other-service', 'Priv-house-serv', 'Protective-serv',\n",
       "       'Machine-op-inspct', 'Tech-support', 'Exec-managerial',\n",
       "       'Farming-fishing', 'Adm-clerical', 'Sales', 'Craft-repair',\n",
       "       'Transport-moving', 'Handlers-cleaners', 'Prof-specialty', '?',\n",
       "       'Armed-Forces'], dtype=object)"
      ]
     },
     "execution_count": 461,
     "metadata": {},
     "output_type": "execute_result"
    }
   ],
   "source": [
    "df.occupation.unique()"
   ]
  },
  {
   "attachments": {},
   "cell_type": "markdown",
   "metadata": {},
   "source": [
    "We will drop rows with value `0` in their `capital_gain` AND `capital_loss`"
   ]
  },
  {
   "cell_type": "code",
   "execution_count": 462,
   "metadata": {},
   "outputs": [
    {
     "data": {
      "text/plain": [
       "(30725, 14)"
      ]
     },
     "execution_count": 462,
     "metadata": {},
     "output_type": "execute_result"
    }
   ],
   "source": [
    "df.shape"
   ]
  },
  {
   "cell_type": "code",
   "execution_count": 463,
   "metadata": {},
   "outputs": [
    {
     "data": {
      "text/plain": [
       "(4050, 14)"
      ]
     },
     "execution_count": 463,
     "metadata": {},
     "output_type": "execute_result"
    }
   ],
   "source": [
    "# drop rows with value 0 in both capital_gain and capital_loss\n",
    "df = df[(df['capital_gain'] != 0) | (df['capital_loss'] != 0)]\n",
    "df.shape"
   ]
  },
  {
   "cell_type": "code",
   "execution_count": 464,
   "metadata": {},
   "outputs": [
    {
     "data": {
      "text/plain": [
       "(4050, 14)"
      ]
     },
     "execution_count": 464,
     "metadata": {},
     "output_type": "execute_result"
    }
   ],
   "source": [
    "# df after drop anomaly data\n",
    "df.shape"
   ]
  },
  {
   "cell_type": "code",
   "execution_count": 465,
   "metadata": {},
   "outputs": [
    {
     "name": "stdout",
     "output_type": "stream",
     "text": [
      "age\n",
      "\n",
      "39    3.851852\n",
      "46    3.555556\n",
      "41    3.358025\n",
      "42    3.234568\n",
      "36    3.185185\n",
      "        ...   \n",
      "79    0.074074\n",
      "83    0.049383\n",
      "76    0.049383\n",
      "80    0.049383\n",
      "82    0.024691\n",
      "Name: age, Length: 68, dtype: Float64\n",
      "----------------------------------------\n",
      "workclass\n",
      "\n",
      "Private             67.012346\n",
      "Self-emp-not-inc    10.197531\n",
      "Local-gov            7.925926\n",
      "Self-emp-inc         7.012346\n",
      "State-gov            4.049383\n",
      "Federal-gov          3.753086\n",
      "Without-pay          0.049383\n",
      "Name: workclass, dtype: float64\n",
      "----------------------------------------\n",
      "education\n",
      "\n",
      "HS-grad         25.407407\n",
      "Bachelors       23.333333\n",
      "Some-college    17.802469\n",
      "Masters         10.246914\n",
      "Prof-school      5.135802\n",
      "Assoc-voc        4.419753\n",
      "Assoc-acdm       3.308642\n",
      "Doctorate        3.086420\n",
      "11th             1.950617\n",
      "10th             1.481481\n",
      "7th-8th          1.432099\n",
      "9th              0.839506\n",
      "12th             0.666667\n",
      "5th-6th          0.592593\n",
      "1st-4th          0.197531\n",
      "Preschool        0.098765\n",
      "Name: education, dtype: float64\n",
      "----------------------------------------\n",
      "education_num\n",
      "\n",
      "9     25.407407\n",
      "13    23.333333\n",
      "10    17.802469\n",
      "14    10.246914\n",
      "15     5.135802\n",
      "11     4.419753\n",
      "12     3.308642\n",
      "16      3.08642\n",
      "7      1.950617\n",
      "6      1.481481\n",
      "4      1.432099\n",
      "5      0.839506\n",
      "8      0.666667\n",
      "3      0.592593\n",
      "2      0.197531\n",
      "1      0.098765\n",
      "Name: education_num, dtype: Float64\n",
      "----------------------------------------\n",
      "marital_status\n",
      "\n",
      "Married-civ-spouse       66.074074\n",
      "Never-married            17.901235\n",
      "Divorced                 10.913580\n",
      "Widowed                   2.345679\n",
      "Separated                 1.901235\n",
      "Married-spouse-absent     0.839506\n",
      "Married-AF-spouse         0.024691\n",
      "Name: marital_status, dtype: float64\n",
      "----------------------------------------\n",
      "occupation\n",
      "\n",
      "Prof-specialty       20.987654\n",
      "Exec-managerial      20.913580\n",
      "Sales                12.641975\n",
      "Craft-repair         12.493827\n",
      "Adm-clerical          8.938272\n",
      "Machine-op-inspct     4.839506\n",
      "Transport-moving      4.469136\n",
      "Other-service         4.271605\n",
      "Tech-support          3.283951\n",
      "Farming-fishing       2.567901\n",
      "Handlers-cleaners     2.370370\n",
      "Protective-serv       1.950617\n",
      "Priv-house-serv       0.246914\n",
      "Armed-Forces          0.024691\n",
      "Name: occupation, dtype: float64\n",
      "----------------------------------------\n",
      "relationship\n",
      "\n",
      "Husband           58.740741\n",
      "Not-in-family     20.641975\n",
      "Wife               6.691358\n",
      "Unmarried          6.617284\n",
      "Own-child          5.679012\n",
      "Other-relative     1.629630\n",
      "Name: relationship, dtype: float64\n",
      "----------------------------------------\n",
      "race\n",
      "\n",
      "White                 88.938272\n",
      "Black                  6.641975\n",
      "Asian-Pac-Islander     3.209877\n",
      "Amer-Indian-Eskimo     0.716049\n",
      "Other                  0.493827\n",
      "Name: race, dtype: float64\n",
      "----------------------------------------\n",
      "sex\n",
      "\n",
      "Male      77.333333\n",
      "Female    22.666667\n",
      "Name: sex, dtype: float64\n",
      "----------------------------------------\n",
      "capital_gain\n",
      "\n",
      "0        36.074074\n",
      "15024     8.469136\n",
      "7688      6.864198\n",
      "7298      6.024691\n",
      "99999      3.82716\n",
      "           ...    \n",
      "1086      0.024691\n",
      "5060      0.024691\n",
      "1455      0.024691\n",
      "2538      0.024691\n",
      "7978      0.024691\n",
      "Name: capital_gain, Length: 118, dtype: Float64\n",
      "----------------------------------------\n",
      "capital_loss\n",
      "\n",
      "0       63.925926\n",
      "1902      4.91358\n",
      "1977     4.123457\n",
      "1887     3.876543\n",
      "1848     1.234568\n",
      "          ...    \n",
      "2282     0.024691\n",
      "1539     0.024691\n",
      "1844     0.024691\n",
      "2472     0.024691\n",
      "1944     0.024691\n",
      "Name: capital_loss, Length: 90, dtype: Float64\n",
      "----------------------------------------\n",
      "hours_per_week\n",
      "\n",
      "40    42.320988\n",
      "50    13.802469\n",
      "45     7.555556\n",
      "60     7.209877\n",
      "55     3.901235\n",
      "        ...    \n",
      "31     0.024691\n",
      "96     0.024691\n",
      "23     0.024691\n",
      "76     0.024691\n",
      "9      0.024691\n",
      "Name: hours_per_week, Length: 74, dtype: Float64\n",
      "----------------------------------------\n",
      "native_country\n",
      "\n",
      "United-States         91.061728\n",
      "?                      2.098765\n",
      "Mexico                 0.716049\n",
      "Philippines            0.592593\n",
      "India                  0.518519\n",
      "Germany                0.493827\n",
      "Canada                 0.395062\n",
      "England                0.296296\n",
      "China                  0.271605\n",
      "Cuba                   0.246914\n",
      "Vietnam                0.246914\n",
      "Puerto-Rico            0.246914\n",
      "El-Salvador            0.246914\n",
      "Japan                  0.246914\n",
      "South                  0.222222\n",
      "Greece                 0.222222\n",
      "Italy                  0.197531\n",
      "Iran                   0.197531\n",
      "Poland                 0.148148\n",
      "Taiwan                 0.148148\n",
      "Guatemala              0.098765\n",
      "Nicaragua              0.098765\n",
      "Columbia               0.098765\n",
      "Cambodia               0.098765\n",
      "Hungary                0.098765\n",
      "France                 0.074074\n",
      "Dominican-Republic     0.074074\n",
      "Ireland                0.074074\n",
      "Jamaica                0.074074\n",
      "Ecuador                0.074074\n",
      "Peru                   0.049383\n",
      "Haiti                  0.049383\n",
      "Trinadad&Tobago        0.049383\n",
      "Portugal               0.049383\n",
      "Laos                   0.024691\n",
      "Hong                   0.024691\n",
      "Yugoslavia             0.024691\n",
      "Honduras               0.024691\n",
      "Holand-Netherlands     0.024691\n",
      "Name: native_country, dtype: float64\n",
      "----------------------------------------\n",
      "income_bracket\n",
      "\n",
      ">50K     58.938272\n",
      "<=50K    41.061728\n",
      "Name: income_bracket, dtype: float64\n",
      "----------------------------------------\n"
     ]
    }
   ],
   "source": [
    "# analyze cardinality\n",
    "features = df.columns.to_list()\n",
    "for col in features:\n",
    "    p = df[col].value_counts(normalize=True)*100\n",
    "\n",
    "    print(col)\n",
    "    print()\n",
    "    print(p)\n",
    "    print('-'*40)"
   ]
  },
  {
   "attachments": {},
   "cell_type": "markdown",
   "metadata": {},
   "source": [
    "There is still `?` values in some of the columns which will be dropped. The collumns are in follows:\n",
    " * ccupancy: 0.02 %\n",
    " * native_country: 1.8 %\n",
    " "
   ]
  },
  {
   "cell_type": "code",
   "execution_count": 466,
   "metadata": {},
   "outputs": [],
   "source": [
    "# Drop value '?'\n",
    "df = df[df != '?']"
   ]
  },
  {
   "cell_type": "code",
   "execution_count": 467,
   "metadata": {},
   "outputs": [
    {
     "data": {
      "text/plain": [
       "age                0\n",
       "workclass          0\n",
       "education          0\n",
       "education_num      0\n",
       "marital_status     0\n",
       "occupation         0\n",
       "relationship       0\n",
       "race               0\n",
       "sex                0\n",
       "capital_gain       0\n",
       "capital_loss       0\n",
       "hours_per_week     0\n",
       "native_country    85\n",
       "income_bracket     0\n",
       "dtype: int64"
      ]
     },
     "execution_count": 467,
     "metadata": {},
     "output_type": "execute_result"
    }
   ],
   "source": [
    "# Check NaN values in each columns\n",
    "df.isnull().sum()"
   ]
  },
  {
   "cell_type": "code",
   "execution_count": 468,
   "metadata": {},
   "outputs": [],
   "source": [
    "# drop NaN values in native_country\n",
    "df.dropna(subset=['native_country'], inplace=True)"
   ]
  },
  {
   "cell_type": "code",
   "execution_count": 469,
   "metadata": {},
   "outputs": [
    {
     "name": "stdout",
     "output_type": "stream",
     "text": [
      "age: 0.00%\n",
      "workclass: 0.00%\n",
      "education: 0.00%\n",
      "education_num: 0.00%\n",
      "marital_status: 0.00%\n",
      "occupation: 0.00%\n",
      "relationship: 0.00%\n",
      "race: 0.00%\n",
      "sex: 0.00%\n",
      "capital_gain: 35.99%\n",
      "capital_loss: 64.01%\n",
      "hours_per_week: 0.00%\n",
      "native_country: 0.00%\n",
      "income_bracket: 0.00%\n"
     ]
    }
   ],
   "source": [
    "# Get percentage of 0 values in each column\n",
    "for col in df.columns:\n",
    "    zero_count = df[df[col] == 0].shape[0]\n",
    "    total_count = df.shape[0]\n",
    "    print(f\"{col}: {zero_count/total_count*100:.2f}%\")"
   ]
  },
  {
   "attachments": {},
   "cell_type": "markdown",
   "metadata": {},
   "source": [
    "## 5. Exploratory Data Analysis (EDA)"
   ]
  },
  {
   "attachments": {},
   "cell_type": "markdown",
   "metadata": {},
   "source": [
    "I will change value in income_bracket:\n",
    " - 0 for <= 50K\n",
    " - 1 for > 50K"
   ]
  },
  {
   "cell_type": "code",
   "execution_count": 470,
   "metadata": {},
   "outputs": [],
   "source": [
    "df['income_bracket'] = df['income_bracket'].apply(lambda x: 0 if x == '<=50K' else 1)"
   ]
  },
  {
   "cell_type": "code",
   "execution_count": 471,
   "metadata": {},
   "outputs": [
    {
     "data": {
      "image/png": "[encoded data removed]",
      "text/plain": [
       "<Figure size 1000x600 with 1 Axes>"
      ]
     },
     "metadata": {},
     "output_type": "display_data"
    }
   ],
   "source": [
    "# Create a barplot of average age in income bracket with hue=sex\n",
    "df.groupby(['income_bracket', 'sex'])['age'].count().unstack().plot(kind='bar', figsize=(10,6))\n",
    "plt.title('Average Age in Income Bracket by Sex')\n",
    "plt.xlabel('Income Bracket')\n",
    "plt.ylabel('Average Age')\n",
    "plt.show()"
   ]
  },
  {
   "cell_type": "code",
   "execution_count": 472,
   "metadata": {},
   "outputs": [
    {
     "data": {
      "text/plain": [
       "marital_status         income_bracket\n",
       "Divorced               0                  281\n",
       "                       1                  155\n",
       "Married-AF-spouse      1                    1\n",
       "Married-civ-spouse     0                  690\n",
       "                       1                 1927\n",
       "Married-spouse-absent  0                   20\n",
       "                       1                   10\n",
       "Never-married          0                  528\n",
       "                       1                  183\n",
       "Separated              0                   51\n",
       "                       1                   26\n",
       "Widowed                0                   63\n",
       "                       1                   30\n",
       "Name: income_bracket, dtype: int64"
      ]
     },
     "execution_count": 472,
     "metadata": {},
     "output_type": "execute_result"
    }
   ],
   "source": [
    "df.groupby(['marital_status', 'income_bracket'])['income_bracket'].count()"
   ]
  },
  {
   "cell_type": "code",
   "execution_count": 473,
   "metadata": {},
   "outputs": [
    {
     "data": {
      "image/png": "[encoded data removed]",
      "text/plain": [
       "<Figure size 1000x1500 with 1 Axes>"
      ]
     },
     "metadata": {},
     "output_type": "display_data"
    }
   ],
   "source": [
    "# Explore Sex vs Income\n",
    "sns.countplot(x=\"sex\",hue=\"income_bracket\",data=df)\n",
    "plt.show()"
   ]
  },
  {
   "cell_type": "code",
   "execution_count": 474,
   "metadata": {},
   "outputs": [
    {
     "data": {
      "image/png": "[encoded data removed]",
      "text/plain": [
       "<Figure size 1000x1500 with 1 Axes>"
      ]
     },
     "metadata": {},
     "output_type": "display_data"
    }
   ],
   "source": [
    "fig, ax = figsize=(10,6)\n",
    "sns.countplot(data=df, x='marital_status', hue='income_bracket')\n",
    "plt.rcParams[\"figure.figsize\"] = (10,15)\n",
    "plt.show()"
   ]
  },
  {
   "cell_type": "code",
   "execution_count": 475,
   "metadata": {},
   "outputs": [
    {
     "data": {
      "text/plain": [
       "marital_status         income_bracket\n",
       "Divorced               0                  281\n",
       "                       1                  155\n",
       "Married-AF-spouse      1                    1\n",
       "Married-civ-spouse     0                  690\n",
       "                       1                 1927\n",
       "Married-spouse-absent  0                   20\n",
       "                       1                   10\n",
       "Never-married          0                  528\n",
       "                       1                  183\n",
       "Separated              0                   51\n",
       "                       1                   26\n",
       "Widowed                0                   63\n",
       "                       1                   30\n",
       "Name: income_bracket, dtype: int64"
      ]
     },
     "execution_count": 475,
     "metadata": {},
     "output_type": "execute_result"
    }
   ],
   "source": [
    "df.groupby(['marital_status' ,'income_bracket'])['income_bracket'].count()"
   ]
  },
  {
   "cell_type": "code",
   "execution_count": 476,
   "metadata": {},
   "outputs": [
    {
     "data": {
      "text/plain": [
       "age               0\n",
       "workclass         0\n",
       "education         0\n",
       "education_num     0\n",
       "marital_status    0\n",
       "occupation        0\n",
       "relationship      0\n",
       "race              0\n",
       "sex               0\n",
       "capital_gain      0\n",
       "capital_loss      0\n",
       "hours_per_week    0\n",
       "native_country    0\n",
       "income_bracket    0\n",
       "dtype: int64"
      ]
     },
     "execution_count": 476,
     "metadata": {},
     "output_type": "execute_result"
    }
   ],
   "source": [
    "df.isna().sum()"
   ]
  },
  {
   "cell_type": "code",
   "execution_count": 477,
   "metadata": {},
   "outputs": [
    {
     "name": "stdout",
     "output_type": "stream",
     "text": [
      "<class 'pandas.core.frame.DataFrame'>\n",
      "Int64Index: 3965 entries, 0 to 30723\n",
      "Data columns (total 14 columns):\n",
      " #   Column          Non-Null Count  Dtype \n",
      "---  ------          --------------  ----- \n",
      " 0   age             3965 non-null   Int64 \n",
      " 1   workclass       3965 non-null   object\n",
      " 2   education       3965 non-null   object\n",
      " 3   education_num   3965 non-null   Int64 \n",
      " 4   marital_status  3965 non-null   object\n",
      " 5   occupation      3965 non-null   object\n",
      " 6   relationship    3965 non-null   object\n",
      " 7   race            3965 non-null   object\n",
      " 8   sex             3965 non-null   object\n",
      " 9   capital_gain    3965 non-null   Int64 \n",
      " 10  capital_loss    3965 non-null   Int64 \n",
      " 11  hours_per_week  3965 non-null   Int64 \n",
      " 12  native_country  3965 non-null   object\n",
      " 13  income_bracket  3965 non-null   int64 \n",
      "dtypes: Int64(5), int64(1), object(8)\n",
      "memory usage: 484.0+ KB\n"
     ]
    }
   ],
   "source": [
    "df.info()"
   ]
  },
  {
   "cell_type": "code",
   "execution_count": 478,
   "metadata": {},
   "outputs": [
    {
     "data": {
      "text/html": [
       "<div>\n",
       "<style scoped>\n",
       "    .dataframe tbody tr th:only-of-type {\n",
       "        vertical-align: middle;\n",
       "    }\n",
       "\n",
       "    .dataframe tbody tr th {\n",
       "        vertical-align: top;\n",
       "    }\n",
       "\n",
       "    .dataframe thead th {\n",
       "        text-align: right;\n",
       "    }\n",
       "</style>\n",
       "<table border=\"1\" class=\"dataframe\">\n",
       "  <thead>\n",
       "    <tr style=\"text-align: right;\">\n",
       "      <th></th>\n",
       "      <th>age</th>\n",
       "      <th>education_num</th>\n",
       "      <th>capital_gain</th>\n",
       "      <th>capital_loss</th>\n",
       "      <th>hours_per_week</th>\n",
       "      <th>income_bracket</th>\n",
       "    </tr>\n",
       "  </thead>\n",
       "  <tbody>\n",
       "    <tr>\n",
       "      <th>count</th>\n",
       "      <td>3965.000000</td>\n",
       "      <td>3965.000000</td>\n",
       "      <td>3965.000000</td>\n",
       "      <td>3965.000000</td>\n",
       "      <td>3965.000000</td>\n",
       "      <td>3965.000000</td>\n",
       "    </tr>\n",
       "    <tr>\n",
       "      <th>mean</th>\n",
       "      <td>42.837327</td>\n",
       "      <td>11.065069</td>\n",
       "      <td>8306.971248</td>\n",
       "      <td>672.254981</td>\n",
       "      <td>43.843632</td>\n",
       "      <td>0.588146</td>\n",
       "    </tr>\n",
       "    <tr>\n",
       "      <th>std</th>\n",
       "      <td>12.568842</td>\n",
       "      <td>2.645809</td>\n",
       "      <td>18905.537361</td>\n",
       "      <td>922.542314</td>\n",
       "      <td>11.818603</td>\n",
       "      <td>0.492231</td>\n",
       "    </tr>\n",
       "    <tr>\n",
       "      <th>min</th>\n",
       "      <td>17.000000</td>\n",
       "      <td>1.000000</td>\n",
       "      <td>0.000000</td>\n",
       "      <td>0.000000</td>\n",
       "      <td>1.000000</td>\n",
       "      <td>0.000000</td>\n",
       "    </tr>\n",
       "    <tr>\n",
       "      <th>25%</th>\n",
       "      <td>34.000000</td>\n",
       "      <td>9.000000</td>\n",
       "      <td>0.000000</td>\n",
       "      <td>0.000000</td>\n",
       "      <td>40.000000</td>\n",
       "      <td>0.000000</td>\n",
       "    </tr>\n",
       "    <tr>\n",
       "      <th>50%</th>\n",
       "      <td>42.000000</td>\n",
       "      <td>10.000000</td>\n",
       "      <td>3325.000000</td>\n",
       "      <td>0.000000</td>\n",
       "      <td>40.000000</td>\n",
       "      <td>1.000000</td>\n",
       "    </tr>\n",
       "    <tr>\n",
       "      <th>75%</th>\n",
       "      <td>51.000000</td>\n",
       "      <td>13.000000</td>\n",
       "      <td>7688.000000</td>\n",
       "      <td>1740.000000</td>\n",
       "      <td>50.000000</td>\n",
       "      <td>1.000000</td>\n",
       "    </tr>\n",
       "    <tr>\n",
       "      <th>max</th>\n",
       "      <td>90.000000</td>\n",
       "      <td>16.000000</td>\n",
       "      <td>99999.000000</td>\n",
       "      <td>4356.000000</td>\n",
       "      <td>99.000000</td>\n",
       "      <td>1.000000</td>\n",
       "    </tr>\n",
       "  </tbody>\n",
       "</table>\n",
       "</div>"
      ],
      "text/plain": [
       "               age  education_num  capital_gain  capital_loss  hours_per_week  \\\n",
       "count  3965.000000    3965.000000   3965.000000   3965.000000     3965.000000   \n",
       "mean     42.837327      11.065069   8306.971248    672.254981       43.843632   \n",
       "std      12.568842       2.645809  18905.537361    922.542314       11.818603   \n",
       "min      17.000000       1.000000      0.000000      0.000000        1.000000   \n",
       "25%      34.000000       9.000000      0.000000      0.000000       40.000000   \n",
       "50%      42.000000      10.000000   3325.000000      0.000000       40.000000   \n",
       "75%      51.000000      13.000000   7688.000000   1740.000000       50.000000   \n",
       "max      90.000000      16.000000  99999.000000   4356.000000       99.000000   \n",
       "\n",
       "       income_bracket  \n",
       "count     3965.000000  \n",
       "mean         0.588146  \n",
       "std          0.492231  \n",
       "min          0.000000  \n",
       "25%          0.000000  \n",
       "50%          1.000000  \n",
       "75%          1.000000  \n",
       "max          1.000000  "
      ]
     },
     "execution_count": 478,
     "metadata": {},
     "output_type": "execute_result"
    }
   ],
   "source": [
    "df.describe()"
   ]
  },
  {
   "cell_type": "code",
   "execution_count": 479,
   "metadata": {},
   "outputs": [
    {
     "data": {
      "text/plain": [
       "age                68\n",
       "workclass           7\n",
       "education          16\n",
       "education_num      16\n",
       "marital_status      7\n",
       "occupation         14\n",
       "relationship        6\n",
       "race                5\n",
       "sex                 2\n",
       "capital_gain      118\n",
       "capital_loss       90\n",
       "hours_per_week     74\n",
       "native_country     38\n",
       "income_bracket      2\n",
       "dtype: int64"
      ]
     },
     "execution_count": 479,
     "metadata": {},
     "output_type": "execute_result"
    }
   ],
   "source": [
    "df.nunique()"
   ]
  },
  {
   "cell_type": "code",
   "execution_count": 480,
   "metadata": {},
   "outputs": [
    {
     "name": "stderr",
     "output_type": "stream",
     "text": [
      "C:\\Users\\MSI GAMING\\AppData\\Roaming\\Python\\Python39\\site-packages\\seaborn\\axisgrid.py:848: UserWarning: \n",
      "\n",
      "`distplot` is a deprecated function and will be removed in seaborn v0.14.0.\n",
      "\n",
      "Please adapt your code to use either `displot` (a figure-level function with\n",
      "similar flexibility) or `histplot` (an axes-level function for histograms).\n",
      "\n",
      "For a guide to updating your code to use the new functions, please see\n",
      "https://gist.github.com/mwaskom/de44147ed2974457ad6372750bbe5751\n",
      "\n",
      "  func(*plot_args, **plot_kwargs)\n",
      "C:\\Users\\MSI GAMING\\AppData\\Roaming\\Python\\Python39\\site-packages\\seaborn\\axisgrid.py:848: UserWarning: \n",
      "\n",
      "`distplot` is a deprecated function and will be removed in seaborn v0.14.0.\n",
      "\n",
      "Please adapt your code to use either `displot` (a figure-level function with\n",
      "similar flexibility) or `histplot` (an axes-level function for histograms).\n",
      "\n",
      "For a guide to updating your code to use the new functions, please see\n",
      "https://gist.github.com/mwaskom/de44147ed2974457ad6372750bbe5751\n",
      "\n",
      "  func(*plot_args, **plot_kwargs)\n"
     ]
    },
    {
     "data": {
      "image/png": "[encoded data removed]",
      "text/plain": [
       "<Figure size 600x300 with 2 Axes>"
      ]
     },
     "metadata": {},
     "output_type": "display_data"
    }
   ],
   "source": [
    "# Explore Age vs Income\n",
    "g = sns.FacetGrid(df, col='income_bracket')\n",
    "g = g.map(sns.distplot, \"age\")\n",
    "plt.show()"
   ]
  },
  {
   "cell_type": "code",
   "execution_count": 481,
   "metadata": {},
   "outputs": [
    {
     "data": {
      "image/png": "[encoded data removed]",
      "text/plain": [
       "<Figure size 1000x1000 with 2 Axes>"
      ]
     },
     "metadata": {},
     "output_type": "display_data"
    }
   ],
   "source": [
    "complete_correlation= associations(df, filename= 'complete_correlation.png', figsize=(10,10), mark_columns=True)"
   ]
  },
  {
   "cell_type": "code",
   "execution_count": 482,
   "metadata": {},
   "outputs": [
    {
     "data": {
      "text/html": [
       "<div>\n",
       "<style scoped>\n",
       "    .dataframe tbody tr th:only-of-type {\n",
       "        vertical-align: middle;\n",
       "    }\n",
       "\n",
       "    .dataframe tbody tr th {\n",
       "        vertical-align: top;\n",
       "    }\n",
       "\n",
       "    .dataframe thead th {\n",
       "        text-align: right;\n",
       "    }\n",
       "</style>\n",
       "<table border=\"1\" class=\"dataframe\">\n",
       "  <thead>\n",
       "    <tr style=\"text-align: right;\">\n",
       "      <th></th>\n",
       "      <th>age</th>\n",
       "      <th>workclass</th>\n",
       "      <th>education</th>\n",
       "      <th>education_num</th>\n",
       "      <th>marital_status</th>\n",
       "      <th>occupation</th>\n",
       "      <th>relationship</th>\n",
       "      <th>race</th>\n",
       "      <th>sex</th>\n",
       "      <th>capital_gain</th>\n",
       "      <th>capital_loss</th>\n",
       "      <th>hours_per_week</th>\n",
       "      <th>native_country</th>\n",
       "      <th>income_bracket</th>\n",
       "    </tr>\n",
       "  </thead>\n",
       "  <tbody>\n",
       "    <tr>\n",
       "      <th>0</th>\n",
       "      <td>39</td>\n",
       "      <td>Private</td>\n",
       "      <td>9th</td>\n",
       "      <td>5</td>\n",
       "      <td>Married-civ-spouse</td>\n",
       "      <td>Other-service</td>\n",
       "      <td>Wife</td>\n",
       "      <td>Black</td>\n",
       "      <td>Female</td>\n",
       "      <td>3411</td>\n",
       "      <td>0</td>\n",
       "      <td>34</td>\n",
       "      <td>United-States</td>\n",
       "      <td>0</td>\n",
       "    </tr>\n",
       "    <tr>\n",
       "      <th>12</th>\n",
       "      <td>70</td>\n",
       "      <td>Private</td>\n",
       "      <td>9th</td>\n",
       "      <td>5</td>\n",
       "      <td>Married-civ-spouse</td>\n",
       "      <td>Machine-op-inspct</td>\n",
       "      <td>Wife</td>\n",
       "      <td>White</td>\n",
       "      <td>Female</td>\n",
       "      <td>2653</td>\n",
       "      <td>0</td>\n",
       "      <td>40</td>\n",
       "      <td>United-States</td>\n",
       "      <td>0</td>\n",
       "    </tr>\n",
       "    <tr>\n",
       "      <th>19</th>\n",
       "      <td>45</td>\n",
       "      <td>Private</td>\n",
       "      <td>9th</td>\n",
       "      <td>5</td>\n",
       "      <td>Married-civ-spouse</td>\n",
       "      <td>Adm-clerical</td>\n",
       "      <td>Husband</td>\n",
       "      <td>Black</td>\n",
       "      <td>Male</td>\n",
       "      <td>5178</td>\n",
       "      <td>0</td>\n",
       "      <td>40</td>\n",
       "      <td>United-States</td>\n",
       "      <td>1</td>\n",
       "    </tr>\n",
       "    <tr>\n",
       "      <th>28</th>\n",
       "      <td>58</td>\n",
       "      <td>Private</td>\n",
       "      <td>9th</td>\n",
       "      <td>5</td>\n",
       "      <td>Married-civ-spouse</td>\n",
       "      <td>Machine-op-inspct</td>\n",
       "      <td>Husband</td>\n",
       "      <td>Black</td>\n",
       "      <td>Male</td>\n",
       "      <td>3781</td>\n",
       "      <td>0</td>\n",
       "      <td>40</td>\n",
       "      <td>United-States</td>\n",
       "      <td>0</td>\n",
       "    </tr>\n",
       "    <tr>\n",
       "      <th>41</th>\n",
       "      <td>45</td>\n",
       "      <td>Private</td>\n",
       "      <td>9th</td>\n",
       "      <td>5</td>\n",
       "      <td>Married-civ-spouse</td>\n",
       "      <td>Other-service</td>\n",
       "      <td>Husband</td>\n",
       "      <td>White</td>\n",
       "      <td>Male</td>\n",
       "      <td>0</td>\n",
       "      <td>1848</td>\n",
       "      <td>40</td>\n",
       "      <td>United-States</td>\n",
       "      <td>1</td>\n",
       "    </tr>\n",
       "  </tbody>\n",
       "</table>\n",
       "</div>"
      ],
      "text/plain": [
       "    age workclass education  education_num      marital_status  \\\n",
       "0    39   Private       9th              5  Married-civ-spouse   \n",
       "12   70   Private       9th              5  Married-civ-spouse   \n",
       "19   45   Private       9th              5  Married-civ-spouse   \n",
       "28   58   Private       9th              5  Married-civ-spouse   \n",
       "41   45   Private       9th              5  Married-civ-spouse   \n",
       "\n",
       "           occupation relationship   race     sex  capital_gain  capital_loss  \\\n",
       "0       Other-service         Wife  Black  Female          3411             0   \n",
       "12  Machine-op-inspct         Wife  White  Female          2653             0   \n",
       "19       Adm-clerical      Husband  Black    Male          5178             0   \n",
       "28  Machine-op-inspct      Husband  Black    Male          3781             0   \n",
       "41      Other-service      Husband  White    Male             0          1848   \n",
       "\n",
       "    hours_per_week native_country  income_bracket  \n",
       "0               34  United-States               0  \n",
       "12              40  United-States               0  \n",
       "19              40  United-States               1  \n",
       "28              40  United-States               0  \n",
       "41              40  United-States               1  "
      ]
     },
     "execution_count": 482,
     "metadata": {},
     "output_type": "execute_result"
    }
   ],
   "source": [
    "df.head()"
   ]
  },
  {
   "cell_type": "code",
   "execution_count": 483,
   "metadata": {},
   "outputs": [],
   "source": [
    "# temp = df[['age', 'education_num', 'capital_gain', 'capital_loss', 'hours_per_week', 'income_bracket']]\n",
    "# plt.figure(figsize=(20, 10))\n",
    "# sns.set(font_scale=1.0)\n",
    "# sns.pairplot(temp, hue='income_bracket', palette=\"deep\") \n",
    "# plt.show()\n"
   ]
  },
  {
   "cell_type": "code",
   "execution_count": 484,
   "metadata": {},
   "outputs": [
    {
     "data": {
      "text/html": [
       "<div>\n",
       "<style scoped>\n",
       "    .dataframe tbody tr th:only-of-type {\n",
       "        vertical-align: middle;\n",
       "    }\n",
       "\n",
       "    .dataframe tbody tr th {\n",
       "        vertical-align: top;\n",
       "    }\n",
       "\n",
       "    .dataframe thead th {\n",
       "        text-align: right;\n",
       "    }\n",
       "</style>\n",
       "<table border=\"1\" class=\"dataframe\">\n",
       "  <thead>\n",
       "    <tr style=\"text-align: right;\">\n",
       "      <th></th>\n",
       "      <th>workclass</th>\n",
       "      <th>education</th>\n",
       "      <th>marital_status</th>\n",
       "      <th>occupation</th>\n",
       "      <th>relationship</th>\n",
       "      <th>race</th>\n",
       "      <th>sex</th>\n",
       "      <th>native_country</th>\n",
       "    </tr>\n",
       "  </thead>\n",
       "  <tbody>\n",
       "    <tr>\n",
       "      <th>count</th>\n",
       "      <td>3965</td>\n",
       "      <td>3965</td>\n",
       "      <td>3965</td>\n",
       "      <td>3965</td>\n",
       "      <td>3965</td>\n",
       "      <td>3965</td>\n",
       "      <td>3965</td>\n",
       "      <td>3965</td>\n",
       "    </tr>\n",
       "    <tr>\n",
       "      <th>unique</th>\n",
       "      <td>7</td>\n",
       "      <td>16</td>\n",
       "      <td>7</td>\n",
       "      <td>14</td>\n",
       "      <td>6</td>\n",
       "      <td>5</td>\n",
       "      <td>2</td>\n",
       "      <td>38</td>\n",
       "    </tr>\n",
       "    <tr>\n",
       "      <th>top</th>\n",
       "      <td>Private</td>\n",
       "      <td>HS-grad</td>\n",
       "      <td>Married-civ-spouse</td>\n",
       "      <td>Prof-specialty</td>\n",
       "      <td>Husband</td>\n",
       "      <td>White</td>\n",
       "      <td>Male</td>\n",
       "      <td>United-States</td>\n",
       "    </tr>\n",
       "    <tr>\n",
       "      <th>freq</th>\n",
       "      <td>2663</td>\n",
       "      <td>1021</td>\n",
       "      <td>2617</td>\n",
       "      <td>829</td>\n",
       "      <td>2331</td>\n",
       "      <td>3547</td>\n",
       "      <td>3067</td>\n",
       "      <td>3688</td>\n",
       "    </tr>\n",
       "  </tbody>\n",
       "</table>\n",
       "</div>"
      ],
      "text/plain": [
       "       workclass education      marital_status      occupation relationship  \\\n",
       "count       3965      3965                3965            3965         3965   \n",
       "unique         7        16                   7              14            6   \n",
       "top      Private   HS-grad  Married-civ-spouse  Prof-specialty      Husband   \n",
       "freq        2663      1021                2617             829         2331   \n",
       "\n",
       "         race   sex native_country  \n",
       "count    3965  3965           3965  \n",
       "unique      5     2             38  \n",
       "top     White  Male  United-States  \n",
       "freq     3547  3067           3688  "
      ]
     },
     "execution_count": 484,
     "metadata": {},
     "output_type": "execute_result"
    }
   ],
   "source": [
    "df.describe(include='O')"
   ]
  },
  {
   "attachments": {},
   "cell_type": "markdown",
   "metadata": {},
   "source": [
    "## 6. Feature Engineering"
   ]
  },
  {
   "cell_type": "code",
   "execution_count": 485,
   "metadata": {},
   "outputs": [],
   "source": [
    "X = df.drop(['income_bracket'], axis=1)\n",
    "y = df[['income_bracket']]"
   ]
  },
  {
   "cell_type": "code",
   "execution_count": 486,
   "metadata": {},
   "outputs": [
    {
     "name": "stdout",
     "output_type": "stream",
     "text": [
      "age\n",
      "\n",
      "<IntegerArray>\n",
      "[17, 18, 19, 20, 21, 22, 23, 24, 25, 26, 27, 28, 29, 30, 31, 32, 33, 34, 35,\n",
      " 36, 37, 38, 39, 40, 41, 42, 43, 44, 45, 46, 47, 48, 49, 50, 51, 52, 53, 54,\n",
      " 55, 56, 57, 58, 59, 60, 61, 62, 63, 64, 65, 66, 67, 68, 69, 70, 71, 72, 73,\n",
      " 74, 75, 76, 77, 78, 79, 80, 81, 82, 83, 90]\n",
      "Length: 68, dtype: Int64\n",
      "----------------------------------------\n",
      "workclass\n",
      "\n",
      "['Federal-gov' 'Local-gov' 'Private' 'Self-emp-inc' 'Self-emp-not-inc'\n",
      " 'State-gov' 'Without-pay']\n",
      "----------------------------------------\n",
      "education\n",
      "\n",
      "['10th' '11th' '12th' '1st-4th' '5th-6th' '7th-8th' '9th' 'Assoc-acdm'\n",
      " 'Assoc-voc' 'Bachelors' 'Doctorate' 'HS-grad' 'Masters' 'Preschool'\n",
      " 'Prof-school' 'Some-college']\n",
      "----------------------------------------\n",
      "education_num\n",
      "\n",
      "<IntegerArray>\n",
      "[1, 2, 3, 4, 5, 6, 7, 8, 9, 10, 11, 12, 13, 14, 15, 16]\n",
      "Length: 16, dtype: Int64\n",
      "----------------------------------------\n",
      "marital_status\n",
      "\n",
      "['Divorced' 'Married-AF-spouse' 'Married-civ-spouse'\n",
      " 'Married-spouse-absent' 'Never-married' 'Separated' 'Widowed']\n",
      "----------------------------------------\n",
      "occupation\n",
      "\n",
      "['Adm-clerical' 'Armed-Forces' 'Craft-repair' 'Exec-managerial'\n",
      " 'Farming-fishing' 'Handlers-cleaners' 'Machine-op-inspct' 'Other-service'\n",
      " 'Priv-house-serv' 'Prof-specialty' 'Protective-serv' 'Sales'\n",
      " 'Tech-support' 'Transport-moving']\n",
      "----------------------------------------\n",
      "relationship\n",
      "\n",
      "['Husband' 'Not-in-family' 'Other-relative' 'Own-child' 'Unmarried' 'Wife']\n",
      "----------------------------------------\n",
      "race\n",
      "\n",
      "['Amer-Indian-Eskimo' 'Asian-Pac-Islander' 'Black' 'Other' 'White']\n",
      "----------------------------------------\n",
      "sex\n",
      "\n",
      "['Female' 'Male']\n",
      "----------------------------------------\n",
      "capital_gain\n",
      "\n",
      "<IntegerArray>\n",
      "[    0,   114,   401,   594,   914,   991,  1055,  1086,  1151,  1173,\n",
      " ...\n",
      " 15831, 18481, 20051, 22040, 25124, 25236, 27828, 34095, 41310, 99999]\n",
      "Length: 118, dtype: Int64\n",
      "----------------------------------------\n",
      "capital_loss\n",
      "\n",
      "<IntegerArray>\n",
      "[   0,  155,  213,  323,  419,  625,  653,  810,  880,  974, 1092, 1138, 1258,\n",
      " 1340, 1380, 1408, 1411, 1485, 1504, 1539, 1564, 1573, 1579, 1590, 1594, 1602,\n",
      " 1617, 1628, 1648, 1651, 1668, 1669, 1672, 1719, 1721, 1726, 1735, 1740, 1741,\n",
      " 1755, 1762, 1816, 1825, 1844, 1848, 1876, 1887, 1902, 1944, 1974, 1977, 1980,\n",
      " 2001, 2002, 2042, 2051, 2057, 2080, 2129, 2149, 2174, 2179, 2201, 2205, 2206,\n",
      " 2231, 2238, 2246, 2258, 2267, 2282, 2339, 2352, 2377, 2392, 2415, 2444, 2457,\n",
      " 2467, 2472, 2547, 2559, 2603, 2754, 2824, 3004, 3683, 3770, 3900, 4356]\n",
      "Length: 90, dtype: Int64\n",
      "----------------------------------------\n",
      "hours_per_week\n",
      "\n",
      "<IntegerArray>\n",
      "[ 1,  2,  3,  4,  5,  6,  7,  8,  9, 10, 12, 13, 14, 15, 16, 18, 19, 20, 21,\n",
      " 22, 23, 24, 25, 26, 27, 28, 30, 31, 32, 33, 34, 35, 36, 37, 38, 39, 40, 41,\n",
      " 42, 43, 44, 45, 46, 47, 48, 50, 51, 52, 53, 54, 55, 56, 57, 58, 59, 60, 62,\n",
      " 63, 64, 65, 66, 67, 68, 70, 72, 75, 76, 77, 80, 84, 90, 96, 98, 99]\n",
      "Length: 74, dtype: Int64\n",
      "----------------------------------------\n",
      "native_country\n",
      "\n",
      "['Cambodia' 'Canada' 'China' 'Columbia' 'Cuba' 'Dominican-Republic'\n",
      " 'Ecuador' 'El-Salvador' 'England' 'France' 'Germany' 'Greece' 'Guatemala'\n",
      " 'Haiti' 'Holand-Netherlands' 'Honduras' 'Hong' 'Hungary' 'India' 'Iran'\n",
      " 'Ireland' 'Italy' 'Jamaica' 'Japan' 'Laos' 'Mexico' 'Nicaragua' 'Peru'\n",
      " 'Philippines' 'Poland' 'Portugal' 'Puerto-Rico' 'South' 'Taiwan'\n",
      " 'Trinadad&Tobago' 'United-States' 'Vietnam' 'Yugoslavia']\n",
      "----------------------------------------\n"
     ]
    }
   ],
   "source": [
    "for col in X:\n",
    "    p = X[col].sort_values().unique()\n",
    "\n",
    "    print(col)\n",
    "    print()\n",
    "    print(p)\n",
    "    print('-'*40)"
   ]
  },
  {
   "attachments": {},
   "cell_type": "markdown",
   "metadata": {},
   "source": [
    "### Cardinality on Age\n",
    "\n",
    "I will evide age based on certain category:\n",
    " * <= 19 is teenager\n",
    " * 20-30 is young adult\n",
    " * 31-45 is adult\n",
    " * 46-65 is middle age\n",
    " * `>` 65 is old people"
   ]
  },
  {
   "cell_type": "code",
   "execution_count": 487,
   "metadata": {},
   "outputs": [],
   "source": [
    "# create age_group for X\n",
    "X['age_group'] = ''\n",
    "\n",
    "# assign category accordingly for X_train\n",
    "X.loc[X['age'] <= 19, 'age_group'] = 'teenager'\n",
    "X.loc[(X['age'] > 19) & (X['age'] <= 30), 'age_group'] = 'young adult'\n",
    "X.loc[(X['age'] > 30) & (X['age'] <= 45), 'age_group'] = 'adult'\n",
    "X.loc[(X['age'] > 45) & (X['age'] <= 65), 'age_group'] = 'middle age'\n",
    "X.loc[X['age'] > 65, 'age_group'] = 'old people'\n",
    "\n",
    "# drop column age\n",
    "X = X.drop(['age'], axis=1)"
   ]
  },
  {
   "attachments": {},
   "cell_type": "markdown",
   "metadata": {},
   "source": [
    "### Cardinality on native country\n",
    "\n",
    "I will group based on continent"
   ]
  },
  {
   "cell_type": "code",
   "execution_count": 488,
   "metadata": {},
   "outputs": [],
   "source": [
    "# Create a new column to store the region for X\n",
    "X['region'] = ''\n",
    "\n",
    "# Set the region for each country for X_train\n",
    "X.loc[X['native_country'].isin(['Cambodia', 'Japan', 'China', 'Hong', 'India', 'Iran', 'Laos', 'Philippines', 'Taiwan', 'Vietnam']), 'region'] = 'Asia'\n",
    "X.loc[X['native_country'].isin(['England', 'France', 'Germany', 'Greece', 'Holand-Netherlands', 'Hungary', 'Ireland', 'Italy', 'Poland', 'Portugal', 'Yugoslavia']), 'region'] = 'Europe'\n",
    "X.loc[X['native_country'].isin(['Columbia', 'Cuba', 'Dominican-Republic','Ecuador', 'El-Salvador','Guatemala','Haiti','Honduras','Mexico', 'Nicaragua', 'Peru','Puerto-Rico', 'South','Trinadad&Tobago', 'United-States','Jamaica', 'Canada']), 'region'] = 'North America'\n",
    "\n",
    "# drop column native country\n",
    "X = X.drop(['native_country'], axis=1)"
   ]
  },
  {
   "attachments": {},
   "cell_type": "markdown",
   "metadata": {},
   "source": [
    "### Split Num and Cat Col"
   ]
  },
  {
   "attachments": {},
   "cell_type": "markdown",
   "metadata": {},
   "source": [
    "## Split Test-set and Train-set"
   ]
  },
  {
   "cell_type": "code",
   "execution_count": 489,
   "metadata": {},
   "outputs": [
    {
     "name": "stdout",
     "output_type": "stream",
     "text": [
      "Train Size:  (3172, 13)\n",
      "Test Size:  (793, 13)\n",
      " \n",
      "Train Size:  (3172, 1)\n",
      "Test Size:  (793, 1)\n"
     ]
    }
   ],
   "source": [
    "# Split Test-set and Train-set\n",
    "# Since the \n",
    "X_train, X_test, y_train, y_test = train_test_split(X, y, test_size=0.2, random_state=1, stratify=y )\n",
    "print('Train Size: ', X_train.shape)\n",
    "print('Test Size: ', X_test.shape)\n",
    "print(' ')\n",
    "print('Train Size: ', y_train.shape)\n",
    "print('Test Size: ', y_test.shape)"
   ]
  },
  {
   "cell_type": "code",
   "execution_count": 490,
   "metadata": {},
   "outputs": [
    {
     "name": "stdout",
     "output_type": "stream",
     "text": [
      "<class 'pandas.core.frame.DataFrame'>\n",
      "Int64Index: 3965 entries, 0 to 30723\n",
      "Data columns (total 13 columns):\n",
      " #   Column          Non-Null Count  Dtype \n",
      "---  ------          --------------  ----- \n",
      " 0   workclass       3965 non-null   object\n",
      " 1   education       3965 non-null   object\n",
      " 2   education_num   3965 non-null   Int64 \n",
      " 3   marital_status  3965 non-null   object\n",
      " 4   occupation      3965 non-null   object\n",
      " 5   relationship    3965 non-null   object\n",
      " 6   race            3965 non-null   object\n",
      " 7   sex             3965 non-null   object\n",
      " 8   capital_gain    3965 non-null   Int64 \n",
      " 9   capital_loss    3965 non-null   Int64 \n",
      " 10  hours_per_week  3965 non-null   Int64 \n",
      " 11  age_group       3965 non-null   object\n",
      " 12  region          3965 non-null   object\n",
      "dtypes: Int64(4), object(9)\n",
      "memory usage: 449.2+ KB\n"
     ]
    }
   ],
   "source": [
    "X.info()"
   ]
  },
  {
   "cell_type": "code",
   "execution_count": 491,
   "metadata": {},
   "outputs": [],
   "source": [
    "# numerical column\n",
    "num_cols = ['capital_gain', 'capital_loss', 'hours_per_week']\n",
    "\n",
    "# categorical column\n",
    "cat_cols = ['occupation', 'race', 'region', 'sex', 'workclass', 'relationship', 'marital_status']\n",
    "\n",
    "# category ordinal\n",
    "cat_ord_cols = ['education', 'education_num', 'age_group']"
   ]
  },
  {
   "cell_type": "code",
   "execution_count": 492,
   "metadata": {},
   "outputs": [],
   "source": [
    "# Define Train-set and Test-set\n",
    "# X-set for Numerical Column\n",
    "X_train_num = X_train[num_cols]\n",
    "X_test_num = X_test[num_cols]\n",
    "\n",
    "# X-set for Categorical Column\n",
    "X_train_cat = X_train[cat_cols]\n",
    "X_test_cat = X_test[cat_cols]\n",
    "\n",
    "# X-set for Categorical Ordinal Column\n",
    "X_train_cat_ord = X_train[cat_ord_cols]\n",
    "X_test_cat_ord = X_test[cat_ord_cols]"
   ]
  },
  {
   "attachments": {},
   "cell_type": "markdown",
   "metadata": {},
   "source": [
    "### Encoding Category Ordinal"
   ]
  },
  {
   "cell_type": "code",
   "execution_count": 493,
   "metadata": {},
   "outputs": [],
   "source": [
    "# Feature encoding using OrdinalEncoder\n",
    "encoder = OrdinalEncoder(categories=[['9th', '10th', '11th', '12th', '1st-4th', '5th-6th', '7th-8th',\n",
    "       'HS-grad', 'Masters', 'Assoc-voc', 'Bachelors', 'Doctorate',\n",
    "       'Preschool', 'Assoc-acdm', 'Prof-school', 'Some-college'], # col education\n",
    "       [1, 2, 3, 4, 5, 6, 7, 8, 9, 10, 11, 12, 13, 14, 15, 16], # col education_num\n",
    "       ['adult', 'middle age', 'old people', 'teenager', 'young adult'], # col age_group\n",
    "       ])\n",
    "\n",
    "encoder.fit(X_train_cat_ord)\n",
    "X_train_catold_encoded = encoder.transform(X_train_cat_ord)\n",
    "X_test_catold_encoded = encoder.transform(X_test_cat_ord)"
   ]
  },
  {
   "attachments": {},
   "cell_type": "markdown",
   "metadata": {},
   "source": [
    "### Encoding Category "
   ]
  },
  {
   "cell_type": "code",
   "execution_count": 494,
   "metadata": {},
   "outputs": [
    {
     "data": {
      "text/plain": [
       "OneHotEncoder(handle_unknown='ignore', sparse=False)"
      ]
     },
     "execution_count": 494,
     "metadata": {},
     "output_type": "execute_result"
    }
   ],
   "source": [
    "ohe = OneHotEncoder(handle_unknown= 'ignore',sparse=False)\n",
    "ohe.fit(X_train_cat)"
   ]
  },
  {
   "cell_type": "code",
   "execution_count": 495,
   "metadata": {},
   "outputs": [],
   "source": [
    "# Assign to Train-set and Test-set\n",
    "X_train_cat_encoded = ohe.transform(X_train_cat)\n",
    "X_test_cat_encoded = ohe.transform(X_test_cat)"
   ]
  },
  {
   "cell_type": "code",
   "execution_count": 496,
   "metadata": {},
   "outputs": [
    {
     "data": {
      "text/plain": [
       "[array(['Adm-clerical', 'Armed-Forces', 'Craft-repair', 'Exec-managerial',\n",
       "        'Farming-fishing', 'Handlers-cleaners', 'Machine-op-inspct',\n",
       "        'Other-service', 'Priv-house-serv', 'Prof-specialty',\n",
       "        'Protective-serv', 'Sales', 'Tech-support', 'Transport-moving'],\n",
       "       dtype=object),\n",
       " array(['Amer-Indian-Eskimo', 'Asian-Pac-Islander', 'Black', 'Other',\n",
       "        'White'], dtype=object),\n",
       " array(['Asia', 'Europe', 'North America'], dtype=object),\n",
       " array(['Female', 'Male'], dtype=object),\n",
       " array(['Federal-gov', 'Local-gov', 'Private', 'Self-emp-inc',\n",
       "        'Self-emp-not-inc', 'State-gov', 'Without-pay'], dtype=object),\n",
       " array(['Husband', 'Not-in-family', 'Other-relative', 'Own-child',\n",
       "        'Unmarried', 'Wife'], dtype=object),\n",
       " array(['Divorced', 'Married-AF-spouse', 'Married-civ-spouse',\n",
       "        'Married-spouse-absent', 'Never-married', 'Separated', 'Widowed'],\n",
       "       dtype=object)]"
      ]
     },
     "execution_count": 496,
     "metadata": {},
     "output_type": "execute_result"
    }
   ],
   "source": [
    "ohe.categories_"
   ]
  },
  {
   "cell_type": "code",
   "execution_count": 497,
   "metadata": {},
   "outputs": [
    {
     "name": "stdout",
     "output_type": "stream",
     "text": [
      "['Adm-clerical', 'Armed-Forces', 'Craft-repair', 'Exec-managerial', 'Farming-fishing', 'Handlers-cleaners', 'Machine-op-inspct', 'Other-service', 'Priv-house-serv', 'Prof-specialty', 'Protective-serv', 'Sales', 'Tech-support', 'Transport-moving', 'Amer-Indian-Eskimo', 'Asian-Pac-Islander', 'Black', 'Other', 'White', 'Asia', 'Europe', 'North America', 'Female', 'Male', 'Federal-gov', 'Local-gov', 'Private', 'Self-emp-inc', 'Self-emp-not-inc', 'State-gov', 'Without-pay', 'Husband', 'Not-in-family', 'Other-relative', 'Own-child', 'Unmarried', 'Wife', 'Divorced', 'Married-AF-spouse', 'Married-civ-spouse', 'Married-spouse-absent', 'Never-married', 'Separated', 'Widowed']\n"
     ]
    }
   ],
   "source": [
    "# Concatenate all arrays into a single 1D array\n",
    "features_label = np.concatenate(ohe.categories_).tolist()\n",
    "\n",
    "print(features_label)\n"
   ]
  },
  {
   "attachments": {},
   "cell_type": "markdown",
   "metadata": {},
   "source": [
    "### Scalled Numerical Column"
   ]
  },
  {
   "cell_type": "code",
   "execution_count": 498,
   "metadata": {},
   "outputs": [],
   "source": [
    "# Define Test-set and Train-set for Numerical Column\n",
    "X_train_num = X_train[num_cols]\n",
    "X_test_num = X_test[num_cols]"
   ]
  },
  {
   "cell_type": "code",
   "execution_count": 499,
   "metadata": {},
   "outputs": [],
   "source": [
    "# Feature Scalling using MniMaxScaller\n",
    "scaler = MinMaxScaler()\n",
    "scaler.fit(X_train_num)\n",
    "\n",
    "X_train_num_scaled = scaler.transform(X_train_num)\n",
    "X_test_num_scaled = scaler.transform(X_test_num)"
   ]
  },
  {
   "attachments": {},
   "cell_type": "markdown",
   "metadata": {},
   "source": [
    "### Joined All Encoded and Scalling"
   ]
  },
  {
   "cell_type": "code",
   "execution_count": 500,
   "metadata": {},
   "outputs": [
    {
     "data": {
      "text/html": [
       "<div>\n",
       "<style scoped>\n",
       "    .dataframe tbody tr th:only-of-type {\n",
       "        vertical-align: middle;\n",
       "    }\n",
       "\n",
       "    .dataframe tbody tr th {\n",
       "        vertical-align: top;\n",
       "    }\n",
       "\n",
       "    .dataframe thead tr th {\n",
       "        text-align: left;\n",
       "    }\n",
       "</style>\n",
       "<table border=\"1\" class=\"dataframe\">\n",
       "  <thead>\n",
       "    <tr>\n",
       "      <th></th>\n",
       "      <th>capital_gain</th>\n",
       "      <th>capital_loss</th>\n",
       "      <th>hours_per_week</th>\n",
       "      <th>Adm-clerical</th>\n",
       "      <th>Armed-Forces</th>\n",
       "      <th>Craft-repair</th>\n",
       "      <th>Exec-managerial</th>\n",
       "      <th>Farming-fishing</th>\n",
       "      <th>Handlers-cleaners</th>\n",
       "      <th>Machine-op-inspct</th>\n",
       "      <th>...</th>\n",
       "      <th>Divorced</th>\n",
       "      <th>Married-AF-spouse</th>\n",
       "      <th>Married-civ-spouse</th>\n",
       "      <th>Married-spouse-absent</th>\n",
       "      <th>Never-married</th>\n",
       "      <th>Separated</th>\n",
       "      <th>Widowed</th>\n",
       "      <th>education</th>\n",
       "      <th>education_num</th>\n",
       "      <th>age_group</th>\n",
       "    </tr>\n",
       "  </thead>\n",
       "  <tbody>\n",
       "    <tr>\n",
       "      <th>0</th>\n",
       "      <td>0.051781</td>\n",
       "      <td>0.0</td>\n",
       "      <td>0.602041</td>\n",
       "      <td>0.0</td>\n",
       "      <td>0.0</td>\n",
       "      <td>0.0</td>\n",
       "      <td>1.0</td>\n",
       "      <td>0.0</td>\n",
       "      <td>0.0</td>\n",
       "      <td>0.0</td>\n",
       "      <td>...</td>\n",
       "      <td>0.0</td>\n",
       "      <td>0.0</td>\n",
       "      <td>1.0</td>\n",
       "      <td>0.0</td>\n",
       "      <td>0.0</td>\n",
       "      <td>0.0</td>\n",
       "      <td>0.0</td>\n",
       "      <td>10.0</td>\n",
       "      <td>12.0</td>\n",
       "      <td>1.0</td>\n",
       "    </tr>\n",
       "    <tr>\n",
       "      <th>1</th>\n",
       "      <td>0.051781</td>\n",
       "      <td>0.0</td>\n",
       "      <td>0.602041</td>\n",
       "      <td>1.0</td>\n",
       "      <td>0.0</td>\n",
       "      <td>0.0</td>\n",
       "      <td>0.0</td>\n",
       "      <td>0.0</td>\n",
       "      <td>0.0</td>\n",
       "      <td>0.0</td>\n",
       "      <td>...</td>\n",
       "      <td>0.0</td>\n",
       "      <td>0.0</td>\n",
       "      <td>1.0</td>\n",
       "      <td>0.0</td>\n",
       "      <td>0.0</td>\n",
       "      <td>0.0</td>\n",
       "      <td>0.0</td>\n",
       "      <td>15.0</td>\n",
       "      <td>9.0</td>\n",
       "      <td>0.0</td>\n",
       "    </tr>\n",
       "    <tr>\n",
       "      <th>2</th>\n",
       "      <td>0.150242</td>\n",
       "      <td>0.0</td>\n",
       "      <td>0.551020</td>\n",
       "      <td>0.0</td>\n",
       "      <td>0.0</td>\n",
       "      <td>0.0</td>\n",
       "      <td>0.0</td>\n",
       "      <td>0.0</td>\n",
       "      <td>0.0</td>\n",
       "      <td>0.0</td>\n",
       "      <td>...</td>\n",
       "      <td>0.0</td>\n",
       "      <td>0.0</td>\n",
       "      <td>1.0</td>\n",
       "      <td>0.0</td>\n",
       "      <td>0.0</td>\n",
       "      <td>0.0</td>\n",
       "      <td>0.0</td>\n",
       "      <td>14.0</td>\n",
       "      <td>14.0</td>\n",
       "      <td>0.0</td>\n",
       "    </tr>\n",
       "    <tr>\n",
       "      <th>3</th>\n",
       "      <td>0.021050</td>\n",
       "      <td>0.0</td>\n",
       "      <td>0.397959</td>\n",
       "      <td>0.0</td>\n",
       "      <td>0.0</td>\n",
       "      <td>0.0</td>\n",
       "      <td>0.0</td>\n",
       "      <td>0.0</td>\n",
       "      <td>0.0</td>\n",
       "      <td>0.0</td>\n",
       "      <td>...</td>\n",
       "      <td>0.0</td>\n",
       "      <td>0.0</td>\n",
       "      <td>1.0</td>\n",
       "      <td>0.0</td>\n",
       "      <td>0.0</td>\n",
       "      <td>0.0</td>\n",
       "      <td>0.0</td>\n",
       "      <td>7.0</td>\n",
       "      <td>8.0</td>\n",
       "      <td>0.0</td>\n",
       "    </tr>\n",
       "    <tr>\n",
       "      <th>4</th>\n",
       "      <td>0.031030</td>\n",
       "      <td>0.0</td>\n",
       "      <td>0.397959</td>\n",
       "      <td>0.0</td>\n",
       "      <td>0.0</td>\n",
       "      <td>0.0</td>\n",
       "      <td>0.0</td>\n",
       "      <td>0.0</td>\n",
       "      <td>0.0</td>\n",
       "      <td>0.0</td>\n",
       "      <td>...</td>\n",
       "      <td>0.0</td>\n",
       "      <td>0.0</td>\n",
       "      <td>1.0</td>\n",
       "      <td>0.0</td>\n",
       "      <td>0.0</td>\n",
       "      <td>0.0</td>\n",
       "      <td>0.0</td>\n",
       "      <td>15.0</td>\n",
       "      <td>9.0</td>\n",
       "      <td>1.0</td>\n",
       "    </tr>\n",
       "  </tbody>\n",
       "</table>\n",
       "<p>5 rows × 50 columns</p>\n",
       "</div>"
      ],
      "text/plain": [
       "  capital_gain capital_loss hours_per_week Adm-clerical Armed-Forces  \\\n",
       "0     0.051781          0.0       0.602041          0.0          0.0   \n",
       "1     0.051781          0.0       0.602041          1.0          0.0   \n",
       "2     0.150242          0.0       0.551020          0.0          0.0   \n",
       "3     0.021050          0.0       0.397959          0.0          0.0   \n",
       "4     0.031030          0.0       0.397959          0.0          0.0   \n",
       "\n",
       "  Craft-repair Exec-managerial Farming-fishing Handlers-cleaners  \\\n",
       "0          0.0             1.0             0.0               0.0   \n",
       "1          0.0             0.0             0.0               0.0   \n",
       "2          0.0             0.0             0.0               0.0   \n",
       "3          0.0             0.0             0.0               0.0   \n",
       "4          0.0             0.0             0.0               0.0   \n",
       "\n",
       "  Machine-op-inspct  ... Divorced Married-AF-spouse Married-civ-spouse  \\\n",
       "0               0.0  ...      0.0               0.0                1.0   \n",
       "1               0.0  ...      0.0               0.0                1.0   \n",
       "2               0.0  ...      0.0               0.0                1.0   \n",
       "3               0.0  ...      0.0               0.0                1.0   \n",
       "4               0.0  ...      0.0               0.0                1.0   \n",
       "\n",
       "  Married-spouse-absent Never-married Separated Widowed education  \\\n",
       "0                   0.0           0.0       0.0     0.0      10.0   \n",
       "1                   0.0           0.0       0.0     0.0      15.0   \n",
       "2                   0.0           0.0       0.0     0.0      14.0   \n",
       "3                   0.0           0.0       0.0     0.0       7.0   \n",
       "4                   0.0           0.0       0.0     0.0      15.0   \n",
       "\n",
       "  education_num age_group  \n",
       "0          12.0       1.0  \n",
       "1           9.0       0.0  \n",
       "2          14.0       0.0  \n",
       "3           8.0       0.0  \n",
       "4           9.0       1.0  \n",
       "\n",
       "[5 rows x 50 columns]"
      ]
     },
     "execution_count": 500,
     "metadata": {},
     "output_type": "execute_result"
    }
   ],
   "source": [
    "# Join array for scaled and encoded features\n",
    "X_train_final = np.concatenate([X_train_num_scaled, X_train_cat_encoded, X_train_catold_encoded], axis=1)\n",
    "X_test_final = np.concatenate([X_test_num_scaled, X_test_cat_encoded, X_test_catold_encoded], axis=1)\n",
    "\n",
    "# Create dataframe for all joined array\n",
    "X_train_final_df = pd.DataFrame(X_train_final, columns = [num_cols + features_label + cat_ord_cols])\n",
    "X_train_final_df.head()"
   ]
  },
  {
   "attachments": {},
   "cell_type": "markdown",
   "metadata": {},
   "source": [
    "## 7. Model Definition"
   ]
  },
  {
   "cell_type": "code",
   "execution_count": 501,
   "metadata": {},
   "outputs": [],
   "source": [
    "# Create the logistic regression model\n",
    "logreg = LogisticRegression(max_iter=1000)\n",
    "\n",
    "# Create the SVM model\n",
    "svc_linear = SVC(kernel='linear', gamma=\"auto\", C= 1)\n"
   ]
  },
  {
   "attachments": {},
   "cell_type": "markdown",
   "metadata": {},
   "source": [
    "## 8. Model Training"
   ]
  },
  {
   "cell_type": "code",
   "execution_count": 502,
   "metadata": {},
   "outputs": [
    {
     "name": "stderr",
     "output_type": "stream",
     "text": [
      "c:\\Users\\MSI GAMING\\anaconda3\\lib\\site-packages\\sklearn\\utils\\validation.py:993: DataConversionWarning: A column-vector y was passed when a 1d array was expected. Please change the shape of y to (n_samples, ), for example using ravel().\n",
      "  y = column_or_1d(y, warn=True)\n",
      "c:\\Users\\MSI GAMING\\anaconda3\\lib\\site-packages\\sklearn\\utils\\validation.py:993: DataConversionWarning: A column-vector y was passed when a 1d array was expected. Please change the shape of y to (n_samples, ), for example using ravel().\n",
      "  y = column_or_1d(y, warn=True)\n"
     ]
    }
   ],
   "source": [
    "# Train the model on the training data\n",
    "logreg.fit(X_train_final, y_train)\n",
    "y_pred_logreg = logreg.predict(X_test_final)\n",
    "\n",
    "\n",
    "# Train the model on the training data\n",
    "svc_linear.fit(X_train_final, y_train)# Make prediction\n",
    "y_pred_linear = svc_linear.predict(X_test_final)# Evaluate our model\n"
   ]
  },
  {
   "attachments": {},
   "cell_type": "markdown",
   "metadata": {},
   "source": [
    "## 9. Model Evaluation"
   ]
  },
  {
   "cell_type": "code",
   "execution_count": 503,
   "metadata": {},
   "outputs": [
    {
     "name": "stdout",
     "output_type": "stream",
     "text": [
      "Evaluation: Linear Logistic Regression\n",
      "Training score: 0.8159\n",
      "Test score: 0.8197\n",
      "              precision    recall  f1-score   support\n",
      "\n",
      "           0       0.80      0.75      0.77       327\n",
      "           1       0.83      0.87      0.85       466\n",
      "\n",
      "    accuracy                           0.82       793\n",
      "   macro avg       0.82      0.81      0.81       793\n",
      "weighted avg       0.82      0.82      0.82       793\n",
      "\n"
     ]
    }
   ],
   "source": [
    "# Linear Logistic Regression\n",
    "print('Evaluation: Linear Logistic Regression')\n",
    "print('Training score: {:.4f}'.format(logreg.score(X_train_final, y_train)))\n",
    "print('Test score: {:.4f}'.format(logreg.score(X_test_final, y_test)))\n",
    "\n",
    "print(classification_report(y_test, y_pred_logreg))"
   ]
  },
  {
   "cell_type": "code",
   "execution_count": 504,
   "metadata": {},
   "outputs": [
    {
     "name": "stdout",
     "output_type": "stream",
     "text": [
      "Evaluation: Linear kernel\n",
      "Training score: 0.8335\n",
      "Test score: 0.8285\n",
      "              precision    recall  f1-score   support\n",
      "\n",
      "           0       0.84      0.72      0.77       327\n",
      "           1       0.82      0.91      0.86       466\n",
      "\n",
      "    accuracy                           0.83       793\n",
      "   macro avg       0.83      0.81      0.82       793\n",
      "weighted avg       0.83      0.83      0.83       793\n",
      "\n"
     ]
    }
   ],
   "source": [
    "# SVC Linear Kernel\n",
    "print(\"Evaluation: Linear kernel\")\n",
    "print('Training score: {:.4f}'.format(svc_linear.score(X_train_final, y_train)))\n",
    "print('Test score: {:.4f}'.format(svc_linear.score(X_test_final, y_test)))\n",
    "\n",
    "print(classification_report(y_test,y_pred_linear))"
   ]
  },
  {
   "cell_type": "code",
   "execution_count": 505,
   "metadata": {},
   "outputs": [
    {
     "data": {
      "text/plain": [
       "<Axes: title={'center': 'Logistic Regression'}>"
      ]
     },
     "execution_count": 505,
     "metadata": {},
     "output_type": "execute_result"
    },
    {
     "data": {
      "image/png": "[encoded data removed]",
      "text/plain": [
       "<Figure size 800x500 with 2 Axes>"
      ]
     },
     "metadata": {},
     "output_type": "display_data"
    }
   ],
   "source": [
    "from sklearn.metrics import confusion_matrix\n",
    "cm=confusion_matrix(y_test,y_pred_logreg)\n",
    "conf_matrix=pd.DataFrame(data=cm,columns=['Predicted: <=50K','Predicted: >50K'],index=['Actual: <=50K','Actual: >50K'])\n",
    "plt.figure(figsize = (8,5))\n",
    "plt.title('Logistic Regression')\n",
    "sns.heatmap(conf_matrix, annot=True,fmt='d',cmap=\"YlGnBu\")"
   ]
  },
  {
   "cell_type": "code",
   "execution_count": 506,
   "metadata": {},
   "outputs": [
    {
     "data": {
      "text/plain": [
       "<Axes: title={'center': 'SVM'}>"
      ]
     },
     "execution_count": 506,
     "metadata": {},
     "output_type": "execute_result"
    },
    {
     "data": {
      "image/png": "[encoded data removed]",
      "text/plain": [
       "<Figure size 800x500 with 2 Axes>"
      ]
     },
     "metadata": {},
     "output_type": "display_data"
    }
   ],
   "source": [
    "from sklearn.metrics import confusion_matrix\n",
    "cm=confusion_matrix(y_test,y_pred_linear)\n",
    "conf_matrix=pd.DataFrame(data=cm,columns=['Predicted: <=50K','Predicted: >50K'],index=['Actual: <=50K','Actual: >50K'])\n",
    "plt.figure(figsize = (8,5))\n",
    "plt.title('SVM')\n",
    "sns.heatmap(conf_matrix, annot=True,fmt='d',cmap=\"YlGnBu\")"
   ]
  },
  {
   "attachments": {},
   "cell_type": "markdown",
   "metadata": {},
   "source": [
    "## 10. Model Saving"
   ]
  },
  {
   "cell_type": "code",
   "execution_count": 507,
   "metadata": {},
   "outputs": [],
   "source": [
    "with open('model_log_reg.pkl', 'wb') as file_1:\n",
    "    pickle.dump(logreg, file_1)\n",
    "\n",
    "with open('svc_linear.pkl', 'wb') as file_2:\n",
    "    pickle.dump(svc_linear, file_2)\n",
    "\n",
    "with open('model_scaler.pkl', 'wb') as file_3:\n",
    "    pickle.dump(scaler, file_3)\n",
    "\n",
    "with open('model_encoder_ord.pkl', 'wb') as file_4:\n",
    "    pickle.dump(encoder, file_4)\n",
    "\n",
    "with open(\"model_encoder.pkl\", \"wb\") as file_5: \n",
    "    pickle.dump(ohe, file_5)\n",
    "\n",
    "with open('list_num_cols.txt', 'w') as file_6:\n",
    "    json.dump(num_cols, file_6)\n",
    "\n",
    "with open('list_cat_cols.txt', 'w') as file_7:\n",
    "    json.dump(cat_cols, file_7)\n",
    "\n",
    "with open('list_cat_cols_ord.txt', 'w') as file_8:\n",
    "    json.dump(cat_ord_cols, file_8)"
   ]
  }
 ],
 "metadata": {
  "kernelspec": {
   "display_name": "Python 3",
   "language": "python",
   "name": "python3"
  },
  "language_info": {
   "codemirror_mode": {
    "name": "ipython",
    "version": 3
   },
   "file_extension": ".py",
   "mimetype": "text/x-python",
   "name": "python",
   "nbconvert_exporter": "python",
   "pygments_lexer": "ipython3",
   "version": "3.9.13"
  },
  "orig_nbformat": 4
 },
 "nbformat": 4,
 "nbformat_minor": 2
}
