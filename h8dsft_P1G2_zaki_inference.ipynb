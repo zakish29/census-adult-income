{
 "cells": [
  {
   "attachments": {},
   "cell_type": "markdown",
   "metadata": {},
   "source": [
    "# Inference"
   ]
  },
  {
   "attachments": {},
   "cell_type": "markdown",
   "metadata": {},
   "source": [
    "## Import Libraries"
   ]
  },
  {
   "cell_type": "code",
   "execution_count": 22,
   "metadata": {},
   "outputs": [],
   "source": [
    "import pickle\n",
    "import json\n",
    "import pandas as pd\n",
    "import numpy as np"
   ]
  },
  {
   "attachments": {},
   "cell_type": "markdown",
   "metadata": {},
   "source": [
    "## Import Model"
   ]
  },
  {
   "cell_type": "code",
   "execution_count": 23,
   "metadata": {},
   "outputs": [],
   "source": [
    "with open('model_log_reg.pkl', 'rb') as file_1:\n",
    "    model_lin_reg = pickle.load(file_1)\n",
    "\n",
    "with open('svc_linear.pkl', 'rb') as file_2:\n",
    "    svc_linear = pickle.load(file_2)\n",
    "\n",
    "with open('model_scaler.pkl', 'rb') as file_3:\n",
    "    model_scaler = pickle.load(file_3)\n",
    "\n",
    "with open('model_encoder_ord.pkl', 'rb') as file_4:\n",
    "    model_encoder_ord = pickle.load(file_4)\n",
    "\n",
    "with open(\"model_encoder.pkl\", \"rb\") as file_5: \n",
    "    model_encoder = pickle.load(file_5)\n",
    "\n",
    "with open('list_num_cols.txt', 'r') as file_6:\n",
    "    list_num_cols = json.load(file_6)\n",
    "\n",
    "with open('list_cat_cols.txt', 'r') as file_7:\n",
    "    list_cat_cols = json.load(file_7)\n",
    "\n",
    "with open('list_cat_cols_ord.txt', 'r') as file_8:\n",
    "    list_cat_cols_ord = json.load(file_8)"
   ]
  },
  {
   "attachments": {},
   "cell_type": "markdown",
   "metadata": {},
   "source": [
    "## Create Dummy Data"
   ]
  },
  {
   "cell_type": "code",
   "execution_count": 24,
   "metadata": {},
   "outputs": [
    {
     "data": {
      "text/html": [
       "<div>\n",
       "<style scoped>\n",
       "    .dataframe tbody tr th:only-of-type {\n",
       "        vertical-align: middle;\n",
       "    }\n",
       "\n",
       "    .dataframe tbody tr th {\n",
       "        vertical-align: top;\n",
       "    }\n",
       "\n",
       "    .dataframe thead th {\n",
       "        text-align: right;\n",
       "    }\n",
       "</style>\n",
       "<table border=\"1\" class=\"dataframe\">\n",
       "  <thead>\n",
       "    <tr style=\"text-align: right;\">\n",
       "      <th></th>\n",
       "      <th>workclass</th>\n",
       "      <th>education</th>\n",
       "      <th>education_num</th>\n",
       "      <th>marital_status</th>\n",
       "      <th>occupation</th>\n",
       "      <th>relationship</th>\n",
       "      <th>race</th>\n",
       "      <th>sex</th>\n",
       "      <th>hours_per_week</th>\n",
       "      <th>age_group</th>\n",
       "      <th>region</th>\n",
       "    </tr>\n",
       "  </thead>\n",
       "  <tbody>\n",
       "    <tr>\n",
       "      <th>0</th>\n",
       "      <td>Private</td>\n",
       "      <td>Bachelors</td>\n",
       "      <td>16</td>\n",
       "      <td>Married-civ-spouse</td>\n",
       "      <td>Other-service</td>\n",
       "      <td>Wife</td>\n",
       "      <td>Asian-Pac-Islander</td>\n",
       "      <td>Male</td>\n",
       "      <td>35</td>\n",
       "      <td>adult</td>\n",
       "      <td>Asia</td>\n",
       "    </tr>\n",
       "  </tbody>\n",
       "</table>\n",
       "</div>"
      ],
      "text/plain": [
       "  workclass  education  education_num      marital_status     occupation  \\\n",
       "0   Private  Bachelors             16  Married-civ-spouse  Other-service   \n",
       "\n",
       "  relationship                race   sex  hours_per_week age_group region  \n",
       "0         Wife  Asian-Pac-Islander  Male              35     adult   Asia  "
      ]
     },
     "execution_count": 24,
     "metadata": {},
     "output_type": "execute_result"
    }
   ],
   "source": [
    "data_inf = {\n",
    "    'workclass': 'Private',\n",
    "    'education': 'Bachelors',\n",
    "    'education_num': 16,\n",
    "    'marital_status': 'Married-civ-spouse',\n",
    "    'occupation': 'Other-service',\n",
    "    'relationship': 'Wife',\n",
    "    'race': 'Asian-Pac-Islander',\n",
    "    'sex': 'Male',\n",
    "    'hours_per_week': 35,\n",
    "    'age_group': 'adult',\n",
    "    'region': 'Asia'\n",
    "}\n",
    "\n",
    "data_inf = pd.DataFrame([data_inf])\n",
    "data_inf"
   ]
  },
  {
   "attachments": {},
   "cell_type": "markdown",
   "metadata": {},
   "source": [
    "## Split Cat and Num Cols"
   ]
  },
  {
   "cell_type": "code",
   "execution_count": 25,
   "metadata": {},
   "outputs": [],
   "source": [
    "# Split num and cat cols\n",
    "data_inf_cat = data_inf[list_cat_cols]\n",
    "data_inf_num = data_inf[list_num_cols]\n",
    "data_inf_cat_ord = data_inf[list_cat_cols_ord]"
   ]
  },
  {
   "cell_type": "code",
   "execution_count": 26,
   "metadata": {},
   "outputs": [],
   "source": [
    "# feature scaling and feature encoding\n",
    "data_inf_num_scaled = model_scaler.transform(data_inf_num)\n",
    "data_inf_cat_ord_encoded = model_encoder_ord.transform(data_inf_cat_ord)\n",
    "data_inf_cat_encoded = model_encoder.transform(data_inf_cat)\n",
    "data_inf_final = np.concatenate([data_inf_num_scaled, data_inf_cat_encoded, data_inf_cat_ord_encoded], axis=1)"
   ]
  },
  {
   "cell_type": "code",
   "execution_count": 27,
   "metadata": {},
   "outputs": [
    {
     "data": {
      "text/plain": [
       "array([1], dtype=int64)"
      ]
     },
     "execution_count": 27,
     "metadata": {},
     "output_type": "execute_result"
    }
   ],
   "source": [
    "# Predict using Linear Regression\n",
    "y_pred_inf = svc_linear.predict(data_inf_final)\n",
    "y_pred_inf"
   ]
  },
  {
   "cell_type": "code",
   "execution_count": 28,
   "metadata": {},
   "outputs": [
    {
     "data": {
      "text/plain": [
       "array([1], dtype=int64)"
      ]
     },
     "execution_count": 28,
     "metadata": {},
     "output_type": "execute_result"
    }
   ],
   "source": [
    "# Predict using Linear Regression\n",
    "y_pred_inf = model_lin_reg.predict(data_inf_final)\n",
    "y_pred_inf"
   ]
  },
  {
   "attachments": {},
   "cell_type": "markdown",
   "metadata": {},
   "source": [
    "Based on the data given, the person is `predicted earning more than 50K USD yearly`"
   ]
  }
 ],
 "metadata": {
  "kernelspec": {
   "display_name": "base",
   "language": "python",
   "name": "python3"
  },
  "language_info": {
   "codemirror_mode": {
    "name": "ipython",
    "version": 3
   },
   "file_extension": ".py",
   "mimetype": "text/x-python",
   "name": "python",
   "nbconvert_exporter": "python",
   "pygments_lexer": "ipython3",
   "version": "3.10.10"
  },
  "orig_nbformat": 4
 },
 "nbformat": 4,
 "nbformat_minor": 2
}
